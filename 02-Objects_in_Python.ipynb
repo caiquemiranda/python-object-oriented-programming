{
 "cells": [
  {
   "attachments": {},
   "cell_type": "markdown",
   "metadata": {},
   "source": [
    "### Objetos em Python"
   ]
  },
  {
   "attachments": {},
   "cell_type": "markdown",
   "metadata": {},
   "source": [
    "Portanto, agora temos um projeto em mãos e estamos prontos para transformá-lo em um programa de trabalho! Claro, isso não costuma acontecer dessa maneira. Veremos exemplos e dicas para um bom projeto de software ao longo do livro, mas nosso foco é a programação orientada a objetos. Então, vamos dar uma olhada na sintaxe do Python que nos permite criar software orientado a objetos."
   ]
  },
  {
   "attachments": {},
   "cell_type": "markdown",
   "metadata": {},
   "source": [
    "Depois de concluir este capítulo, entenderemos:\n",
    "\n",
    "• Como criar classes e instanciar objetos em Python\n",
    "\n",
    "• Como adicionar atributos e comportamentos a objetos Python\n",
    "\n",
    "• Como organizar aulas em pacotes e módulos\n",
    "\n",
    "• Como sugerir que as pessoas não destruam nossos dados"
   ]
  },
  {
   "attachments": {},
   "cell_type": "markdown",
   "metadata": {},
   "source": [
    "#### Criando classes Python"
   ]
  },
  {
   "attachments": {},
   "cell_type": "markdown",
   "metadata": {},
   "source": [
    "Não precisamos escrever muito código Python para perceber que Python é uma linguagem muito \"limpa\". Quando queremos fazer algo, simplesmente fazemos, sem ter que passar por muitos ajustes. O onipresente \"hello world\" em Python, como você provavelmente visto, é apenas uma linha."
   ]
  },
  {
   "attachments": {},
   "cell_type": "markdown",
   "metadata": {},
   "source": [
    "Da mesma forma, a classe mais simples em Python 3 se parece com isso: "
   ]
  },
  {
   "cell_type": "code",
   "execution_count": null,
   "metadata": {},
   "outputs": [],
   "source": [
    "class MyFirstClass:\n",
    "    pass"
   ]
  },
  {
   "attachments": {},
   "cell_type": "markdown",
   "metadata": {},
   "source": [
    "Aí está o nosso primeiro programa orientado a objetos! A definição de classe começa com a palavra-chave class. Isso é seguido por um nome (de nossa escolha) que identifica a classe e termina com dois pontos."
   ]
  },
  {
   "attachments": {},
   "cell_type": "markdown",
   "metadata": {},
   "source": [
    "NOTE: O nome da classe deve seguir as regras padrão de nomenclatura de variáveis do Python (é deve começar com uma letra ou sublinhado e só pode ser composto por letras, sublinhados ou números). Além disso, o guia de estilo Python (procure na web por \"PEP 8\") recomenda que as classes sejam nomeadas usando a notação CamelCase (começar com letra maiúscula; qualquer subseqüente palavras também devem começar com maiúscula)."
   ]
  },
  {
   "attachments": {},
   "cell_type": "markdown",
   "metadata": {},
   "source": [
    "A linha de definição de classe é seguida pelo conteúdo da classe recuado. Tal como acontece com outros Construções Python, recuo é usado para delimitar as classes, em vez de colchetes ou colchetes como muitos outros idiomas usam. Use quatro espaços para recuo, a menos que você tem um motivo convincente para não fazê-lo (como se encaixar no código de outra pessoa que usa tabulações para recuos). Qualquer editor de programação decente pode ser configurado para inserir quatro espaços sempre que a tecla Tab é pressionada."
   ]
  },
  {
   "attachments": {},
   "cell_type": "markdown",
   "metadata": {},
   "source": [
    "Como nossa primeira classe não faz nada, simplesmente usamos a palavra-chave pass na segunda linha para indicar que nenhuma ação adicional precisa ser tomada."
   ]
  },
  {
   "attachments": {},
   "cell_type": "markdown",
   "metadata": {},
   "source": [
    "Podemos pensar que não há muito o que fazer com essa classe básica, mas nos permitem instanciar objetos dessa classe. Podemos carregar a classe no Python 3 intérprete, para que possamos brincar interativamente com ele. Para fazer isso, salve a definição de classemencionado anteriormente em um arquivo chamado first_class.py e execute o comando python -i first_class.py. O argumento -i diz ao Python para \"executar o código e, em seguida, vá para o intérprete interativo\". A sessão seguinte do intérprete demonstra interação básica com esta classe:"
   ]
  },
  {
   "cell_type": "code",
   "execution_count": null,
   "metadata": {},
   "outputs": [],
   "source": [
    "a = MyFirstClass()"
   ]
  },
  {
   "cell_type": "code",
   "execution_count": null,
   "metadata": {},
   "outputs": [],
   "source": [
    "b = MyFirstClass()"
   ]
  },
  {
   "cell_type": "code",
   "execution_count": null,
   "metadata": {},
   "outputs": [],
   "source": [
    "print(a)"
   ]
  },
  {
   "cell_type": "code",
   "execution_count": null,
   "metadata": {},
   "outputs": [],
   "source": [
    "print(b)"
   ]
  },
  {
   "attachments": {},
   "cell_type": "markdown",
   "metadata": {},
   "source": [
    "Esse código instancia dois objetos da nova classe, denominados a e b. Criando um instância de uma classe é uma simples questão de digitar o nome da classe seguido por um par de parênteses. Parece muito com uma chamada de função normal, mas o Python sabe que estamos \"chamando\" uma classe e não uma função, então ele entende que sua função é criar uma nova objeto. Quando impressos, os dois objetos nos dizem qual classe eles são e qual memória endereço onde moram. Os endereços de memória não são muito usados no código Python, mas aqui, eles demonstram que há dois objetos distintos envolvidos."
   ]
  },
  {
   "attachments": {},
   "cell_type": "markdown",
   "metadata": {},
   "source": [
    "#### Adicionando atributos"
   ]
  },
  {
   "attachments": {},
   "cell_type": "markdown",
   "metadata": {},
   "source": [
    "Agora, temos uma classe básica, mas é bastante inútil. Ele não contém nenhum dado e\n",
    "não faz nada. O que temos que fazer para atribuir um atributo a um determinado objeto?"
   ]
  },
  {
   "attachments": {},
   "cell_type": "markdown",
   "metadata": {},
   "source": [
    "Acontece que não precisamos fazer nada de especial na definição da classe. Pudermos\n",
    "defina atributos arbitrários em um objeto instanciado usando a notação de ponto:"
   ]
  },
  {
   "cell_type": "code",
   "execution_count": null,
   "metadata": {},
   "outputs": [],
   "source": [
    "class Point:\n",
    "pass\n",
    "p1 = Point()\n",
    "p2 = Point()\n",
    "p1.x = 5\n",
    "p1.y = 4\n",
    "p2.x = 3\n",
    "p2.y = 6\n",
    "print(p1.x, p1.y)\n",
    "print(p2.x, p2.y)"
   ]
  },
  {
   "attachments": {},
   "cell_type": "markdown",
   "metadata": {},
   "source": [
    "Se executarmos este código, as duas instruções de impressão no final nos informam o novo atributo\n",
    "valores nos dois objetos:\n",
    "\n",
    "5 4\n",
    "3 6"
   ]
  },
  {
   "attachments": {},
   "cell_type": "markdown",
   "metadata": {},
   "source": [
    "Esse código cria uma classe Point vazia sem dados ou comportamentos. Então ele cria\n",
    "duas instâncias dessa classe e atribui a cada uma dessas instâncias as coordenadas x e y para\n",
    "identificar um ponto em duas dimensões. Tudo o que precisamos fazer para atribuir um valor a um atributo\n",
    "em um objeto é usar a sintaxe <object>.<attribute> = <value>. Isso às vezes é referido\n",
    "como notação de ponto. O valor pode ser qualquer coisa: um primitivo Python, um tipo de dados integrado,\n",
    "ou outro objeto. Pode até ser uma função ou outra classe!"
   ]
  },
  {
   "attachments": {},
   "cell_type": "markdown",
   "metadata": {},
   "source": [
    "#### Fazendo-o fazer algo"
   ]
  },
  {
   "attachments": {},
   "cell_type": "markdown",
   "metadata": {},
   "source": [
    "Agora, ter objetos com atributos é ótimo, mas a programação orientada a objetos é\n",
    "realmente sobre a interação entre os objetos. Estamos interessados em invocar ações que\n",
    "fazer com que coisas aconteçam com esses atributos. É hora de adicionar comportamentos às nossas classes."
   ]
  },
  {
   "attachments": {},
   "cell_type": "markdown",
   "metadata": {},
   "source": [
    "Vamos modelar algumas ações em nossa classe Point. Podemos começar com um\n",
    "chamado reset que move o ponto para a origem (a origem é o ponto onde x e\n",
    "y são ambos zero). Esta é uma boa ação introdutória porque não requer nenhuma\n",
    "Parâmetros:"
   ]
  },
  {
   "cell_type": "code",
   "execution_count": null,
   "metadata": {},
   "outputs": [],
   "source": [
    "class Point:\n",
    "def reset(self):\n",
    "self.x = 0\n",
    "self.y = 0\n",
    "p = Point()\n",
    "p.reset()\n",
    "print(p.x, p.y)"
   ]
  },
  {
   "attachments": {},
   "cell_type": "markdown",
   "metadata": {},
   "source": [
    "Esta instrução print nos mostra os dois zeros nos atributos:\n",
    "\n",
    "0 0"
   ]
  },
  {
   "attachments": {},
   "cell_type": "markdown",
   "metadata": {},
   "source": [
    "Um método em Python é formatado de forma idêntica a uma função. Começa com a palavra-chave\n",
    "def seguido por um espaço e o nome do método. Isto é seguido por um conjunto de\n",
    "parênteses contendo a lista de parâmetros (discutiremos esse parâmetro self em\n",
    "só um momento) e termina com dois pontos. A próxima linha é recuada para conter\n",
    "as declarações dentro do método. Essas instruções podem ser código Python arbitrário\n",
    "operando no próprio objeto e quaisquer parâmetros passados conforme o método achar adequado."
   ]
  },
  {
   "attachments": {},
   "cell_type": "markdown",
   "metadata": {},
   "source": [
    "#### Falando sozinho"
   ]
  },
  {
   "attachments": {},
   "cell_type": "markdown",
   "metadata": {},
   "source": [
    "A única diferença entre métodos e funções normais é que todos os métodos têm\n",
    "um argumento necessário. Este argumento é convencionalmente denominado self; Eu nunca vi\n",
    "um programador usa qualquer outro nome para esta variável (a convenção é uma forma muito poderosa\n",
    "coisa). Não há nada que o impeça, no entanto, de chamá-lo assim ou mesmo de Martha."
   ]
  },
  {
   "attachments": {},
   "cell_type": "markdown",
   "metadata": {},
   "source": [
    "O argumento self para um método é simplesmente uma referência ao objeto que o método\n",
    "está sendo invocado. Podemos acessar atributos e métodos desse objeto como se fosse\n",
    "qualquer outro objeto. Isso é exatamente o que fazemos dentro do método reset quando definimos\n",
    "os atributos x e y do objeto self."
   ]
  },
  {
   "attachments": {},
   "cell_type": "markdown",
   "metadata": {},
   "source": [
    "Observe que quando chamamos o método p.reset(), não precisamos passar o self\n",
    "argumento nele. O Python cuida disso automaticamente para nós. Ele sabe que estamos chamando\n",
    "um método no objeto p, então ele automaticamente passa esse objeto para o método."
   ]
  },
  {
   "attachments": {},
   "cell_type": "markdown",
   "metadata": {},
   "source": [
    "No entanto, o método realmente é apenas uma função que está em uma classe. Em vez de\n",
    "de chamar o método no objeto, podemos invocar a função na classe, explicitamente\n",
    "passando nosso objeto como o auto argumento:"
   ]
  },
  {
   "cell_type": "code",
   "execution_count": null,
   "metadata": {},
   "outputs": [],
   "source": [
    "p = Point()\n",
    "Point.reset(p)\n",
    "print(p.x, p.y)"
   ]
  },
  {
   "attachments": {},
   "cell_type": "markdown",
   "metadata": {},
   "source": [
    "A saída é a mesma do exemplo anterior porque internamente, exatamente o mesmo\n",
    "processo ocorreu."
   ]
  },
  {
   "attachments": {},
   "cell_type": "markdown",
   "metadata": {},
   "source": [
    "O que acontece se esquecermos de incluir o argumento self em nossa definição de classe?\n",
    "O Python sairá com uma mensagem de erro:"
   ]
  },
  {
   "cell_type": "code",
   "execution_count": null,
   "metadata": {},
   "outputs": [],
   "source": [
    "class Point:\n",
    "    def reset():\n",
    "        pass"
   ]
  },
  {
   "cell_type": "code",
   "execution_count": null,
   "metadata": {},
   "outputs": [],
   "source": [
    "p = Point()"
   ]
  },
  {
   "cell_type": "code",
   "execution_count": null,
   "metadata": {},
   "outputs": [],
   "source": [
    "p.reset()"
   ]
  },
  {
   "attachments": {},
   "cell_type": "markdown",
   "metadata": {},
   "source": [
    "A mensagem de erro não é tão clara quanto poderia ser (\"Seu tolo, você esqueceu o self\n",
    "argumento\" seria mais informativo). Lembre-se de que quando você vir um erro\n",
    "mensagem que indica falta de argumentos, a primeira coisa a verificar é se você\n",
    "esqueceu-se de si mesmo na definição do método."
   ]
  },
  {
   "attachments": {},
   "cell_type": "markdown",
   "metadata": {},
   "source": [
    "#### Mais argumentos"
   ]
  },
  {
   "attachments": {},
   "cell_type": "markdown",
   "metadata": {},
   "source": [
    "Então, como passamos vários argumentos para um método? Vamos adicionar um novo método que\n",
    "nos permite mover um ponto para uma posição arbitrária, não apenas para a origem. Pudermos\n",
    "inclua também um que aceite outro objeto Point como entrada e retorne a distância\n",
    "entre eles:"
   ]
  },
  {
   "cell_type": "code",
   "execution_count": null,
   "metadata": {},
   "outputs": [],
   "source": [
    "import math\n",
    "\n",
    "class Point:\n",
    "    def move(self, x, y):\n",
    "        self.x = x\n",
    "        self.y = y\n",
    "\n",
    "    def reset(self):\n",
    "        self.move(0, 0)\n",
    "    \n",
    "    def calculate_distance(self, other_point):\n",
    "        return math.sqrt((self.x - other_point.x)**2 + (self.y - other_point.y)**2)\n",
    "\n",
    "# how to use it:\n",
    "point1 = Point()\n",
    "point2 = Point()\n",
    "point1.reset()\n",
    "point2.move(5,0)\n",
    "print(point2.calculate_distance(point1))\n",
    "assert (point2.calculate_distance(point1) ==\n",
    "point1.calculate_distance(point2))\n",
    "point1.move(3,4)\n",
    "print(point1.calculate_distance(point2))\n",
    "print(point1.calculate_distance(point1))"
   ]
  },
  {
   "attachments": {},
   "cell_type": "markdown",
   "metadata": {},
   "source": [
    "As instruções de impressão no final nos fornecem a seguinte saída:\n",
    "\n",
    "5.0\n",
    "4.472135955\n",
    "0.0"
   ]
  },
  {
   "attachments": {},
   "cell_type": "markdown",
   "metadata": {},
   "source": [
    "Muita coisa aconteceu aqui. A classe agora tem três métodos. O método de movimento\n",
    "aceita dois argumentos, x e y, e define os valores no objeto self, bem como\n",
    "o antigo método de redefinição do exemplo anterior. O antigo método de redefinição agora\n",
    "as chamadas se movem, já que um reset é apenas um movimento para um local conhecido específico."
   ]
  },
  {
   "attachments": {},
   "cell_type": "markdown",
   "metadata": {},
   "source": [
    "O método calculate_distance usa o teorema de Pitágoras não muito complexo\n",
    "para calcular a distância entre dois pontos. Espero que você entenda a matemática (**\n",
    "significa ao quadrado e math.sqrt calcula uma raiz quadrada), mas não é um requisito\n",
    "para nosso foco atual, aprender a escrever métodos."
   ]
  },
  {
   "attachments": {},
   "cell_type": "markdown",
   "metadata": {},
   "source": [
    "O código de exemplo no final do exemplo anterior mostra como chamar um método\n",
    "com argumentos: basta incluir os argumentos dentro dos parênteses e usar o\n",
    "mesma notação de ponto para acessar o método. Eu apenas escolhi algumas posições aleatórias para testar\n",
    "os métodos. O código de teste chama cada método e imprime os resultados no console.\n",
    "A função assert é uma ferramenta de teste simples; o programa será resgatado se a declaração após\n",
    "assert é False (ou zero, vazio ou None). Neste caso, nós o usamos para garantir que o\n",
    "a distância é a mesma independentemente de qual ponto chamou o cálculo do outro ponto_\n",
    "método à distância."
   ]
  },
  {
   "cell_type": "markdown",
   "metadata": {},
   "source": []
  },
  {
   "cell_type": "markdown",
   "metadata": {},
   "source": []
  },
  {
   "cell_type": "markdown",
   "metadata": {},
   "source": []
  },
  {
   "cell_type": "markdown",
   "metadata": {},
   "source": []
  },
  {
   "cell_type": "markdown",
   "metadata": {},
   "source": []
  },
  {
   "cell_type": "markdown",
   "metadata": {},
   "source": []
  },
  {
   "cell_type": "markdown",
   "metadata": {},
   "source": []
  },
  {
   "cell_type": "markdown",
   "metadata": {},
   "source": []
  },
  {
   "cell_type": "code",
   "execution_count": null,
   "metadata": {},
   "outputs": [],
   "source": [
    "%reload_ext watermark\n",
    "%watermark -a \"Caique Miranda\" -gu \"caiquemiranda\" -iv"
   ]
  },
  {
   "attachments": {},
   "cell_type": "markdown",
   "metadata": {},
   "source": [
    "### End."
   ]
  }
 ],
 "metadata": {
  "language_info": {
   "name": "python"
  },
  "orig_nbformat": 4
 },
 "nbformat": 4,
 "nbformat_minor": 2
}
