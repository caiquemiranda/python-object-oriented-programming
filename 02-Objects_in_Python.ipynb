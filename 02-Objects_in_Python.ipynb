{
 "cells": [
  {
   "attachments": {},
   "cell_type": "markdown",
   "metadata": {},
   "source": [
    "### Objetos em Python"
   ]
  },
  {
   "attachments": {},
   "cell_type": "markdown",
   "metadata": {},
   "source": [
    "Portanto, agora temos um projeto em mãos e estamos prontos para transformá-lo em um programa de trabalho! Claro, isso não costuma acontecer dessa maneira. Veremos exemplos e dicas para um bom projeto de software ao longo do livro, mas nosso foco é a programação orientada a objetos. Então, vamos dar uma olhada na sintaxe do Python que nos permite criar\n",
    "software orientado a objetos."
   ]
  },
  {
   "attachments": {},
   "cell_type": "markdown",
   "metadata": {},
   "source": [
    "Depois de concluir este capítulo, entenderemos:\n",
    "\n",
    "• Como criar classes e instanciar objetos em Python\n",
    "\n",
    "• Como adicionar atributos e comportamentos a objetos Python\n",
    "\n",
    "• Como organizar aulas em pacotes e módulos\n",
    "\n",
    "• Como sugerir que as pessoas não destruam nossos dados"
   ]
  },
  {
   "attachments": {},
   "cell_type": "markdown",
   "metadata": {},
   "source": [
    "#### Criando classes Python"
   ]
  },
  {
   "attachments": {},
   "cell_type": "markdown",
   "metadata": {},
   "source": [
    "Não precisamos escrever muito código Python para perceber que Python é uma linguagem muito \"limpa\". Quando queremos fazer algo, simplesmente fazemos, sem ter que passar por muitos ajustes. O onipresente \"hello world\" em Python, como você provavelmente\n",
    "visto, é apenas uma linha."
   ]
  },
  {
   "attachments": {},
   "cell_type": "markdown",
   "metadata": {},
   "source": [
    "Da mesma forma, a classe mais simples em Python 3 se parece com isso: "
   ]
  },
  {
   "cell_type": "code",
   "execution_count": null,
   "metadata": {},
   "outputs": [],
   "source": [
    "class MyFirstClass:\n",
    "    pass"
   ]
  },
  {
   "attachments": {},
   "cell_type": "markdown",
   "metadata": {},
   "source": [
    "Aí está o nosso primeiro programa orientado a objetos! A definição de classe começa com a palavra-chave class. Isso é seguido por um nome (de nossa escolha) que identifica a classe e termina com dois pontos."
   ]
  },
  {
   "attachments": {},
   "cell_type": "markdown",
   "metadata": {},
   "source": [
    "NOTE: O nome da classe deve seguir as regras padrão de nomenclatura de variáveis do Python (é\n",
    "deve começar com uma letra ou sublinhado e só pode ser composto por\n",
    "letras, sublinhados ou números). Além disso, o guia de estilo Python\n",
    "(procure na web por \"PEP 8\") recomenda que as classes sejam nomeadas\n",
    "usando a notação CamelCase (começar com letra maiúscula; qualquer subseqüente\n",
    "palavras também devem começar com maiúscula)."
   ]
  },
  {
   "attachments": {},
   "cell_type": "markdown",
   "metadata": {},
   "source": [
    "A linha de definição de classe é seguida pelo conteúdo da classe recuado. Tal como acontece com outros\n",
    "Construções Python, recuo é usado para delimitar as classes, em vez de colchetes ou\n",
    "colchetes como muitos outros idiomas usam. Use quatro espaços para recuo, a menos que você\n",
    "tem um motivo convincente para não fazê-lo (como se encaixar no código de outra pessoa que\n",
    "usa tabulações para recuos). Qualquer editor de programação decente pode ser configurado para inserir\n",
    "quatro espaços sempre que a tecla Tab é pressionada."
   ]
  },
  {
   "attachments": {},
   "cell_type": "markdown",
   "metadata": {},
   "source": [
    "Como nossa primeira classe não faz nada, simplesmente usamos a palavra-chave pass\n",
    "na segunda linha para indicar que nenhuma ação adicional precisa ser tomada."
   ]
  },
  {
   "attachments": {},
   "cell_type": "markdown",
   "metadata": {},
   "source": [
    "Podemos pensar que não há muito o que fazer com essa classe básica, mas\n",
    "nos permitem instanciar objetos dessa classe. Podemos carregar a classe no Python 3\n",
    "intérprete, para que possamos brincar interativamente com ele. Para fazer isso, salve a definição de classe\n",
    "mencionado anteriormente em um arquivo chamado first_class.py e execute o comando\n",
    "python -i first_class.py. O argumento -i diz ao Python para \"executar o código\n",
    "e, em seguida, vá para o intérprete interativo\". A sessão seguinte do intérprete\n",
    "demonstra interação básica com esta classe:"
   ]
  },
  {
   "cell_type": "code",
   "execution_count": null,
   "metadata": {},
   "outputs": [],
   "source": [
    "a = MyFirstClass()"
   ]
  },
  {
   "cell_type": "code",
   "execution_count": null,
   "metadata": {},
   "outputs": [],
   "source": [
    "b = MyFirstClass()"
   ]
  },
  {
   "cell_type": "code",
   "execution_count": null,
   "metadata": {},
   "outputs": [],
   "source": [
    "print(a)"
   ]
  },
  {
   "cell_type": "code",
   "execution_count": null,
   "metadata": {},
   "outputs": [],
   "source": [
    "print(b)"
   ]
  },
  {
   "attachments": {},
   "cell_type": "markdown",
   "metadata": {},
   "source": [
    "Esse código instancia dois objetos da nova classe, denominados a e b. Criando um\n",
    "instância de uma classe é uma simples questão de digitar o nome da classe seguido por um par\n",
    "de parênteses. Parece muito com uma chamada de função normal, mas o Python sabe que estamos\n",
    "\"chamando\" uma classe e não uma função, então ele entende que sua função é criar uma nova\n",
    "objeto. Quando impressos, os dois objetos nos dizem qual classe eles são e qual memória\n",
    "endereço onde moram. Os endereços de memória não são muito usados no código Python, mas aqui,\n",
    "eles demonstram que há dois objetos distintos envolvidos."
   ]
  },
  {
   "attachments": {},
   "cell_type": "markdown",
   "metadata": {},
   "source": [
    "#### Adicionando atributos"
   ]
  },
  {
   "cell_type": "markdown",
   "metadata": {},
   "source": []
  },
  {
   "cell_type": "markdown",
   "metadata": {},
   "source": []
  },
  {
   "cell_type": "markdown",
   "metadata": {},
   "source": []
  },
  {
   "cell_type": "markdown",
   "metadata": {},
   "source": []
  },
  {
   "cell_type": "markdown",
   "metadata": {},
   "source": []
  },
  {
   "cell_type": "code",
   "execution_count": null,
   "metadata": {},
   "outputs": [],
   "source": [
    "%reload_ext watermark\n",
    "%watermark -a \"Caique Miranda\" -gu \"caiquemiranda\" -iv"
   ]
  },
  {
   "attachments": {},
   "cell_type": "markdown",
   "metadata": {},
   "source": [
    "### End."
   ]
  }
 ],
 "metadata": {
  "language_info": {
   "name": "python"
  },
  "orig_nbformat": 4
 },
 "nbformat": 4,
 "nbformat_minor": 2
}
