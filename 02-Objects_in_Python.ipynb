{
 "cells": [
  {
   "attachments": {},
   "cell_type": "markdown",
   "metadata": {},
   "source": [
    "### Objetos em Python"
   ]
  },
  {
   "attachments": {},
   "cell_type": "markdown",
   "metadata": {},
   "source": [
    "Portanto, agora temos um projeto em mãos e estamos prontos para transformá-lo em um programa de trabalho! Claro, isso não costuma acontecer dessa maneira. Veremos exemplos e dicas para um bom projeto de software ao longo do livro, mas nosso foco é a programação orientada a objetos. Então, vamos dar uma olhada na sintaxe do Python que nos permite criar software orientado a objetos."
   ]
  },
  {
   "attachments": {},
   "cell_type": "markdown",
   "metadata": {},
   "source": [
    "Depois de concluir este capítulo, entenderemos:\n",
    "\n",
    "• Como criar classes e instanciar objetos em Python\n",
    "\n",
    "• Como adicionar atributos e comportamentos a objetos Python\n",
    "\n",
    "• Como organizar aulas em pacotes e módulos\n",
    "\n",
    "• Como sugerir que as pessoas não destruam nossos dados"
   ]
  },
  {
   "attachments": {},
   "cell_type": "markdown",
   "metadata": {},
   "source": [
    "#### Criando classes Python"
   ]
  },
  {
   "attachments": {},
   "cell_type": "markdown",
   "metadata": {},
   "source": [
    "Não precisamos escrever muito código Python para perceber que Python é uma linguagem muito \"limpa\". Quando queremos fazer algo, simplesmente fazemos, sem ter que passar por muitos ajustes. O onipresente \"hello world\" em Python, como você provavelmente visto, é apenas uma linha."
   ]
  },
  {
   "attachments": {},
   "cell_type": "markdown",
   "metadata": {},
   "source": [
    "Da mesma forma, a classe mais simples em Python 3 se parece com isso: "
   ]
  },
  {
   "cell_type": "code",
   "execution_count": null,
   "metadata": {},
   "outputs": [],
   "source": [
    "class MyFirstClass:\n",
    "    pass"
   ]
  },
  {
   "attachments": {},
   "cell_type": "markdown",
   "metadata": {},
   "source": [
    "Aí está o nosso primeiro programa orientado a objetos! A definição de classe começa com a palavra-chave class. Isso é seguido por um nome (de nossa escolha) que identifica a classe e termina com dois pontos."
   ]
  },
  {
   "attachments": {},
   "cell_type": "markdown",
   "metadata": {},
   "source": [
    "NOTE: O nome da classe deve seguir as regras padrão de nomenclatura de variáveis do Python (é deve começar com uma letra ou sublinhado e só pode ser composto por letras, sublinhados ou números). Além disso, o guia de estilo Python (procure na web por \"PEP 8\") recomenda que as classes sejam nomeadas usando a notação CamelCase (começar com letra maiúscula; qualquer subseqüente palavras também devem começar com maiúscula)."
   ]
  },
  {
   "attachments": {},
   "cell_type": "markdown",
   "metadata": {},
   "source": [
    "A linha de definição de classe é seguida pelo conteúdo da classe recuado. Tal como acontece com outros Construções Python, recuo é usado para delimitar as classes, em vez de colchetes ou colchetes como muitos outros idiomas usam. Use quatro espaços para recuo, a menos que você tem um motivo convincente para não fazê-lo (como se encaixar no código de outra pessoa que usa tabulações para recuos). Qualquer editor de programação decente pode ser configurado para inserir quatro espaços sempre que a tecla Tab é pressionada."
   ]
  },
  {
   "attachments": {},
   "cell_type": "markdown",
   "metadata": {},
   "source": [
    "Como nossa primeira classe não faz nada, simplesmente usamos a palavra-chave pass na segunda linha para indicar que nenhuma ação adicional precisa ser tomada."
   ]
  },
  {
   "attachments": {},
   "cell_type": "markdown",
   "metadata": {},
   "source": [
    "Podemos pensar que não há muito o que fazer com essa classe básica, mas nos permitem instanciar objetos dessa classe. Podemos carregar a classe no Python 3 intérprete, para que possamos brincar interativamente com ele. Para fazer isso, salve a definição de classemencionado anteriormente em um arquivo chamado first_class.py e execute o comando python -i first_class.py. O argumento -i diz ao Python para \"executar o código e, em seguida, vá para o intérprete interativo\". A sessão seguinte do intérprete demonstra interação básica com esta classe:"
   ]
  },
  {
   "cell_type": "code",
   "execution_count": null,
   "metadata": {},
   "outputs": [],
   "source": [
    "a = MyFirstClass()"
   ]
  },
  {
   "cell_type": "code",
   "execution_count": null,
   "metadata": {},
   "outputs": [],
   "source": [
    "b = MyFirstClass()"
   ]
  },
  {
   "cell_type": "code",
   "execution_count": null,
   "metadata": {},
   "outputs": [],
   "source": [
    "print(a)"
   ]
  },
  {
   "cell_type": "code",
   "execution_count": null,
   "metadata": {},
   "outputs": [],
   "source": [
    "print(b)"
   ]
  },
  {
   "attachments": {},
   "cell_type": "markdown",
   "metadata": {},
   "source": [
    "Esse código instancia dois objetos da nova classe, denominados a e b. Criando um instância de uma classe é uma simples questão de digitar o nome da classe seguido por um par de parênteses. Parece muito com uma chamada de função normal, mas o Python sabe que estamos \"chamando\" uma classe e não uma função, então ele entende que sua função é criar uma nova objeto. Quando impressos, os dois objetos nos dizem qual classe eles são e qual memória endereço onde moram. Os endereços de memória não são muito usados no código Python, mas aqui, eles demonstram que há dois objetos distintos envolvidos."
   ]
  },
  {
   "attachments": {},
   "cell_type": "markdown",
   "metadata": {},
   "source": [
    "#### Adicionando atributos"
   ]
  },
  {
   "attachments": {},
   "cell_type": "markdown",
   "metadata": {},
   "source": [
    "Agora, temos uma classe básica, mas é bastante inútil. Ele não contém nenhum dado e não faz nada. O que temos que fazer para atribuir um atributo a um determinado objeto?"
   ]
  },
  {
   "attachments": {},
   "cell_type": "markdown",
   "metadata": {},
   "source": [
    "Acontece que não precisamos fazer nada de especial na definição da classe. Pudermos defina atributos arbitrários em um objeto instanciado usando a notação de ponto:"
   ]
  },
  {
   "cell_type": "code",
   "execution_count": null,
   "metadata": {},
   "outputs": [],
   "source": [
    "class Point:\n",
    "pass\n",
    "p1 = Point()\n",
    "p2 = Point()\n",
    "p1.x = 5\n",
    "p1.y = 4\n",
    "p2.x = 3\n",
    "p2.y = 6\n",
    "print(p1.x, p1.y)\n",
    "print(p2.x, p2.y)"
   ]
  },
  {
   "attachments": {},
   "cell_type": "markdown",
   "metadata": {},
   "source": [
    "Se executarmos este código, as duas instruções de impressão no final nos informam o novo atributo valores nos dois objetos:\n",
    "\n",
    "5 4\n",
    "3 6"
   ]
  },
  {
   "attachments": {},
   "cell_type": "markdown",
   "metadata": {},
   "source": [
    "Esse código cria uma classe Point vazia sem dados ou comportamentos. Então ele cria duas instâncias dessa classe e atribui a cada uma dessas instâncias as coordenadas x e y para identificar um ponto em duas dimensões. Tudo o que precisamos fazer para atribuir um valor a um atributo em um objeto é usar a sintaxe <object>.<attribute> = <value>. Isso às vezes é referido como notação de ponto. O valor pode ser qualquer coisa: um primitivo Python, um tipo de dados integrado, ou outro objeto. Pode até ser uma função ou outra classe!"
   ]
  },
  {
   "attachments": {},
   "cell_type": "markdown",
   "metadata": {},
   "source": [
    "#### Fazendo-o fazer algo"
   ]
  },
  {
   "attachments": {},
   "cell_type": "markdown",
   "metadata": {},
   "source": [
    "Agora, ter objetos com atributos é ótimo, mas a programação orientada a objetos é realmente sobre a interação entre os objetos. Estamos interessados em invocar ações que fazer com que coisas aconteçam com esses atributos. É hora de adicionar comportamentos às nossas classes."
   ]
  },
  {
   "attachments": {},
   "cell_type": "markdown",
   "metadata": {},
   "source": [
    "Vamos modelar algumas ações em nossa classe Point. Podemos começar com um chamado reset que move o ponto para a origem (a origem é o ponto onde x e y são ambos zero). Esta é uma boa ação introdutória porque não requer nenhuma Parâmetros:"
   ]
  },
  {
   "cell_type": "code",
   "execution_count": null,
   "metadata": {},
   "outputs": [],
   "source": [
    "class Point:\n",
    "    def reset(self):\n",
    "        self.x = 0\n",
    "        self.y = 0\n",
    "\n",
    "p = Point()\n",
    "p.reset()\n",
    "print(p.x, p.y)"
   ]
  },
  {
   "attachments": {},
   "cell_type": "markdown",
   "metadata": {},
   "source": [
    "Esta instrução print nos mostra os dois zeros nos atributos:\n",
    "\n",
    "0 0"
   ]
  },
  {
   "attachments": {},
   "cell_type": "markdown",
   "metadata": {},
   "source": [
    "Um método em Python é formatado de forma idêntica a uma função. Começa com a palavra-chave def seguido por um espaço e o nome do método. Isto é seguido por um conjunto de parênteses contendo a lista de parâmetros (discutiremos esse parâmetro self em só um momento) e termina com dois pontos. A próxima linha é recuada para conter as declarações dentro do método. Essas instruções podem ser código Python arbitrário operando no próprio objeto e quaisquer parâmetros passados conforme o método achar adequado."
   ]
  },
  {
   "attachments": {},
   "cell_type": "markdown",
   "metadata": {},
   "source": [
    "#### Falando sozinho"
   ]
  },
  {
   "attachments": {},
   "cell_type": "markdown",
   "metadata": {},
   "source": [
    "A única diferença entre métodos e funções normais é que todos os métodos têm um argumento necessário. Este argumento é convencionalmente denominado self; Eu nunca vi um programador usa qualquer outro nome para esta variável (a convenção é uma forma muito poderosa coisa). Não há nada que o impeça, no entanto, de chamá-lo assim ou mesmo de Martha."
   ]
  },
  {
   "attachments": {},
   "cell_type": "markdown",
   "metadata": {},
   "source": [
    "O argumento self para um método é simplesmente uma referência ao objeto que o método está sendo invocado. Podemos acessar atributos e métodos desse objeto como se fosse qualquer outro objeto. Isso é exatamente o que fazemos dentro do método reset quando definimos os atributos x e y do objeto self."
   ]
  },
  {
   "attachments": {},
   "cell_type": "markdown",
   "metadata": {},
   "source": [
    "Observe que quando chamamos o método p.reset(), não precisamos passar o self argumento nele. O Python cuida disso automaticamente para nós. Ele sabe que estamos chamando um método no objeto p, então ele automaticamente passa esse objeto para o método."
   ]
  },
  {
   "attachments": {},
   "cell_type": "markdown",
   "metadata": {},
   "source": [
    "No entanto, o método realmente é apenas uma função que está em uma classe. Em vez de de chamar o método no objeto, podemos invocar a função na classe, explicitamente passando nosso objeto como o auto argumento:"
   ]
  },
  {
   "cell_type": "code",
   "execution_count": null,
   "metadata": {},
   "outputs": [],
   "source": [
    "p = Point()\n",
    "Point.reset(p)\n",
    "print(p.x, p.y)"
   ]
  },
  {
   "attachments": {},
   "cell_type": "markdown",
   "metadata": {},
   "source": [
    "A saída é a mesma do exemplo anterior porque internamente, exatamente o mesmo processo ocorreu."
   ]
  },
  {
   "attachments": {},
   "cell_type": "markdown",
   "metadata": {},
   "source": [
    "O que acontece se esquecermos de incluir o argumento self em nossa definição de classe? O Python sairá com uma mensagem de erro:"
   ]
  },
  {
   "cell_type": "code",
   "execution_count": null,
   "metadata": {},
   "outputs": [],
   "source": [
    "class Point:\n",
    "    def reset():\n",
    "        pass"
   ]
  },
  {
   "cell_type": "code",
   "execution_count": null,
   "metadata": {},
   "outputs": [],
   "source": [
    "p = Point()"
   ]
  },
  {
   "cell_type": "code",
   "execution_count": null,
   "metadata": {},
   "outputs": [],
   "source": [
    "p.reset()"
   ]
  },
  {
   "attachments": {},
   "cell_type": "markdown",
   "metadata": {},
   "source": [
    "A mensagem de erro não é tão clara quanto poderia ser (\"Seu tolo, você esqueceu o self argumento\" seria mais informativo). Lembre-se de que quando você vir um erro mensagem que indica falta de argumentos, a primeira coisa a verificar é se você esqueceu-se de si mesmo na definição do método."
   ]
  },
  {
   "attachments": {},
   "cell_type": "markdown",
   "metadata": {},
   "source": [
    "#### Mais argumentos"
   ]
  },
  {
   "attachments": {},
   "cell_type": "markdown",
   "metadata": {},
   "source": [
    "Então, como passamos vários argumentos para um método? Vamos adicionar um novo método que nos permite mover um ponto para uma posição arbitrária, não apenas para a origem. Pudermos inclua também um que aceite outro objeto Point como entrada e retorne a distância entre eles:"
   ]
  },
  {
   "cell_type": "code",
   "execution_count": null,
   "metadata": {},
   "outputs": [],
   "source": [
    "import math\n",
    "\n",
    "class Point:\n",
    "    def move(self, x, y):\n",
    "        self.x = x\n",
    "        self.y = y\n",
    "\n",
    "    def reset(self):\n",
    "        self.move(0, 0)\n",
    "    \n",
    "    def calculate_distance(self, other_point):\n",
    "        return math.sqrt((self.x - other_point.x)**2 + (self.y - other_point.y)**2)\n",
    "\n",
    "# how to use it:\n",
    "point1 = Point()\n",
    "point2 = Point()\n",
    "point1.reset()\n",
    "point2.move(5,0)\n",
    "print(point2.calculate_distance(point1))\n",
    "assert (point2.calculate_distance(point1) ==\n",
    "point1.calculate_distance(point2))\n",
    "point1.move(3,4)\n",
    "print(point1.calculate_distance(point2))\n",
    "print(point1.calculate_distance(point1))"
   ]
  },
  {
   "attachments": {},
   "cell_type": "markdown",
   "metadata": {},
   "source": [
    "As instruções de impressão no final nos fornecem a seguinte saída:\n",
    "\n",
    "5.0\n",
    "4.472135955\n",
    "0.0"
   ]
  },
  {
   "attachments": {},
   "cell_type": "markdown",
   "metadata": {},
   "source": [
    "Muita coisa aconteceu aqui. A classe agora tem três métodos. O método de movimento aceita dois argumentos, x e y, e define os valores no objeto self, bem como o antigo método de redefinição do exemplo anterior. O antigo método de redefinição agora as chamadas se movem, já que um reset é apenas um movimento para um local conhecido específico."
   ]
  },
  {
   "attachments": {},
   "cell_type": "markdown",
   "metadata": {},
   "source": [
    "O método calculate_distance usa o teorema de Pitágoras não muito complexo para calcular a distância entre dois pontos. Espero que você entenda a matemática (** significa ao quadrado e math.sqrt calcula uma raiz quadrada), mas não é um requisito para nosso foco atual, aprender a escrever métodos."
   ]
  },
  {
   "attachments": {},
   "cell_type": "markdown",
   "metadata": {},
   "source": [
    "O código de exemplo no final do exemplo anterior mostra como chamar um método com argumentos: basta incluir os argumentos dentro dos parênteses e usar o mesma notação de ponto para acessar o método. Eu apenas escolhi algumas posições aleatórias para testar os métodos. O código de teste chama cada método e imprime os resultados no console. A função assert é uma ferramenta de teste simples; o programa será resgatado se a declaração após assert é False (ou zero, vazio ou None). Neste caso, nós o usamos para garantir que o a distância é a mesma independentemente de qual ponto chamou o cálculo do outro ponto_ método à distância."
   ]
  },
  {
   "attachments": {},
   "cell_type": "markdown",
   "metadata": {},
   "source": [
    "#### Inicializando o objeto"
   ]
  },
  {
   "attachments": {},
   "cell_type": "markdown",
   "metadata": {},
   "source": [
    "Se não definirmos explicitamente as posições x e y em nosso objeto Point, usando mover ou acessando-os diretamente, temos um ponto quebrado sem posição real. O que acontecerá quando tentarmos acessá-lo?"
   ]
  },
  {
   "attachments": {},
   "cell_type": "markdown",
   "metadata": {},
   "source": [
    "Bem, vamos tentar e ver. \"Experimente e veja\" é uma ferramenta extremamente útil para Python estudar. Abra seu intérprete interativo e digite. O seguinte interativo A sessão mostra o que acontece se tentarmos acessar um atributo ausente. Se você salvou o exemplo anterior como um arquivo ou está usando os exemplos distribuídos com o livro, você pode carregá-lo no interpretador Python com o comando python -i filename.py:"
   ]
  },
  {
   "cell_type": "code",
   "execution_count": null,
   "metadata": {},
   "outputs": [],
   "source": [
    "point = Point()"
   ]
  },
  {
   "cell_type": "code",
   "execution_count": null,
   "metadata": {},
   "outputs": [],
   "source": [
    "point.x = 5"
   ]
  },
  {
   "cell_type": "code",
   "execution_count": null,
   "metadata": {},
   "outputs": [],
   "source": [
    "print(point.x)"
   ]
  },
  {
   "cell_type": "code",
   "execution_count": null,
   "metadata": {},
   "outputs": [],
   "source": [
    "print(point.y)"
   ]
  },
  {
   "attachments": {},
   "cell_type": "markdown",
   "metadata": {},
   "source": [
    "Bem, pelo menos lançou uma exceção útil. Abordaremos as exceções em detalhes no Capítulo 4, Esperando o Inesperado. Você provavelmente já os viu antes (especialmente o onipresente SyntaxError, o que significa que você digitou algo incorretamente!). Neste ponto, basta esteja ciente de que isso significa que algo deu errado."
   ]
  },
  {
   "attachments": {},
   "cell_type": "markdown",
   "metadata": {},
   "source": [
    "A saída é útil para depuração. No interpretador interativo, ele nos diz o ocorreu um erro na linha 1, o que é apenas parcialmente verdadeiro (em uma sessão interativa, apenas uma linha é executada por vez). Se estivéssemos executando um script em um arquivo, ele nos diria o número exato da linha, facilitando a localização do código incorreto. Além disso, conta o erro é um AttributeError e fornece uma mensagem útil informando o que significa erro."
   ]
  },
  {
   "attachments": {},
   "cell_type": "markdown",
   "metadata": {},
   "source": [
    "Podemos detectar e recuperar desse erro, mas, neste caso, parece que devemos especificaram algum tipo de valor padrão. Talvez todo novo objeto deva ser reset() por padrão, ou talvez seria bom se pudéssemos forçar o usuário a dizer nos quais devem ser essas posições quando criam o objeto."
   ]
  },
  {
   "attachments": {},
   "cell_type": "markdown",
   "metadata": {},
   "source": [
    "A maioria das linguagens de programação orientadas a objetos tem o conceito de um construtor, um método especial que cria e inicializa o objeto quando ele é criado. Python é um pouco diferente; ele tem um construtor e um inicializador. A função construtora é raramente usado, a menos que você esteja fazendo algo exótico. Então, vamos começar nossa discussão com o método de inicialização"
   ]
  },
  {
   "attachments": {},
   "cell_type": "markdown",
   "metadata": {},
   "source": [
    "O método de inicialização Python é o mesmo que qualquer outro método, exceto que tem um nome especial, __init__. Os sublinhados duplos à esquerda e à direita significam que isso é um método especial que o interpretador Python tratará como um caso especial."
   ]
  },
  {
   "attachments": {},
   "cell_type": "markdown",
   "metadata": {},
   "source": [
    "NOTE: Nunca nomeie uma função própria com double à esquerda e à direita sublinhados. Pode não significar nada para o Python, mas sempre há o possibilidade de que os designers do Python adicionarão uma função que tenha um propósito especial com esse nome no futuro, e quando o fizerem, seu código vai quebrar."
   ]
  },
  {
   "attachments": {},
   "cell_type": "markdown",
   "metadata": {},
   "source": [
    "Vamos começar com uma função de inicialização em nossa classe Point que exige que o usuário forneça as coordenadas x e y quando o objeto Point é instanciado:"
   ]
  },
  {
   "cell_type": "code",
   "execution_count": null,
   "metadata": {},
   "outputs": [],
   "source": [
    "class Point:\n",
    "    def __init__(self, x, y):\n",
    "        self.move(x, y)\n",
    "    \n",
    "    def move(self, x, y):\n",
    "        self.x = x\n",
    "        self.y = y\n",
    "    \n",
    "    def reset(self):\n",
    "        self.move(0, 0)\n",
    "\n",
    "# Constructing a Point\n",
    "point = Point(3, 5)\n",
    "print(point.x, point.y)"
   ]
  },
  {
   "attachments": {},
   "cell_type": "markdown",
   "metadata": {},
   "source": [
    "Agora, nosso ponto nunca pode ficar sem uma coordenada y! Se tentarmos construir um ponto sem incluir os parâmetros de inicialização adequados, ele falhará com um não erro de argumentos suficientes semelhante ao que recebemos anteriormente quando esquecemos o auto argumento."
   ]
  },
  {
   "attachments": {},
   "cell_type": "markdown",
   "metadata": {},
   "source": [
    "E se não quisermos tornar esses dois argumentos obrigatórios? Bem, então podemos use a mesma sintaxe que as funções do Python usam para fornecer argumentos padrão. O A sintaxe do argumento de palavra-chave anexa um sinal de igual após cada nome de variável. Se o objeto de chamada não fornece esse argumento, então o argumento padrão é usado em vez de. As variáveis ainda estarão disponíveis para a função, mas terão a valores especificados na lista de argumentos. Aqui está um exemplo:"
   ]
  },
  {
   "cell_type": "code",
   "execution_count": null,
   "metadata": {},
   "outputs": [],
   "source": [
    "class Point:\n",
    "    def __init__(self, x=0, y=0):\n",
    "        self.move(x, y)"
   ]
  },
  {
   "attachments": {},
   "cell_type": "markdown",
   "metadata": {},
   "source": [
    "Na maioria das vezes, colocamos nossas instruções de inicialização em uma função __init__. Mas como mencionado anteriormente, o Python tem um construtor além de sua função de inicialização. Você pode nunca precisar usar o outro construtor Python, mas ajuda conhecê-lo existe, então vamos cobri-lo brevemente."
   ]
  },
  {
   "attachments": {},
   "cell_type": "markdown",
   "metadata": {},
   "source": [
    "A função construtora é chamada __new__ em oposição a __init__ e aceita exatamente um argumento; a classe que está sendo construída (ela é chamada antes do objeto é construído, então não há auto-argumento). Ele também tem que retornar o recém-criado objeto. Isso tem possibilidades interessantes quando se trata da complicada arte de metaprogramação, mas não é muito útil na programação do dia-a-dia. Na prática, você raramente, ou nunca, precisará usar __new__ e __init__ será suficiente."
   ]
  },
  {
   "attachments": {},
   "cell_type": "markdown",
   "metadata": {},
   "source": [
    "#### Se explicando"
   ]
  },
  {
   "attachments": {},
   "cell_type": "markdown",
   "metadata": {},
   "source": [
    "Python é uma linguagem de programação extremamente fácil de ler; alguns podem dizer isso é autodocumentado. No entanto, ao fazer programação orientada a objetos, é importante escrever a documentação da API que resuma claramente o que cada objeto e método faz. Manter a documentação atualizada é difícil; o melhor caminho para fazer é escrevê-lo diretamente em nosso código."
   ]
  },
  {
   "attachments": {},
   "cell_type": "markdown",
   "metadata": {},
   "source": [
    "O Python oferece suporte a isso por meio do uso de docstrings. Cada classe, função ou cabeçalho do método pode ter uma string Python padrão como a primeira linha após o definição (a linha que termina em dois pontos). Esta linha deve ser recuada da mesma forma como o seguinte código."
   ]
  },
  {
   "attachments": {},
   "cell_type": "markdown",
   "metadata": {},
   "source": [
    "Docstrings são simplesmente strings Python entre apóstrofo (') ou aspas (\") personagens. Freqüentemente, as docstrings são bastante longas e abrangem várias linhas (o guia de estilo sugere que o comprimento da linha não deve exceder 80 caracteres), o que pode ser formatado como cadeias de caracteres de várias linhas, incluídas no apóstrofo triplo correspondente (''') ou aspas triplas (\"\"\")."
   ]
  },
  {
   "attachments": {},
   "cell_type": "markdown",
   "metadata": {},
   "source": [
    "Uma docstring deve resumir clara e concisamente o propósito da classe ou método que está descrevendo. Deve explicar todos os parâmetros cujo uso não é imediatamente óbvio, e também é um bom lugar para incluir pequenos exemplos de como usar a API. Quaisquer ressalvas ou problemas que um usuário desavisado da API deve ser cientes também devem ser observados."
   ]
  },
  {
   "attachments": {},
   "cell_type": "markdown",
   "metadata": {},
   "source": [
    "Para ilustrar o uso de docstrings, terminaremos esta seção com nosso classe Point documentada:"
   ]
  },
  {
   "cell_type": "code",
   "execution_count": null,
   "metadata": {},
   "outputs": [],
   "source": [
    "import math\n",
    "\n",
    "class Point:\n",
    "    'Represents a point in two-dimensional geometric coordinates'\n",
    "    def __init__(self, x=0, y=0):\n",
    "        '''Initialize the position of a new point. The x and y\n",
    "        coordinates can be specified. If they are not, the\n",
    "        point defaults to the origin.'''\n",
    "        self.move(x, y)\n",
    "\n",
    "    def move(self, x, y):\n",
    "        \"Move the point to a new location in 2D space.\"\n",
    "        self.x = x\n",
    "        self.y = y\n",
    "\n",
    "    def reset(self):\n",
    "        'Reset the point back to the geometric origin: 0, 0'\n",
    "        self.move(0, 0)\n",
    "\n",
    "    def calculate_distance(self, other_point):\n",
    "        \"\"\"Calculate the distance from this point to a second\n",
    "        point passed as a parameter.\n",
    "        This function uses the Pythagorean Theorem to calculate\n",
    "        the distance between the two points. The distance is\n",
    "        returned as a float.\"\"\"\n",
    "        return math.sqrt(\n",
    "        (self.x - other_point.x)**2 +\n",
    "        (self.y - other_point.y)**2)"
   ]
  },
  {
   "attachments": {},
   "cell_type": "markdown",
   "metadata": {},
   "source": [
    "Tente digitar ou carregar (lembre-se, é python -i filename.py) este arquivo no intérprete interativo. Em seguida, insira help(Point)<enter> no prompt do Python. Você deve ver uma documentação bem formatada para a classe, conforme mostrado no captura de tela a seguir:"
   ]
  },
  {
   "attachments": {},
   "cell_type": "markdown",
   "metadata": {},
   "source": [
    "#### Módulos e pacotes"
   ]
  },
  {
   "attachments": {},
   "cell_type": "markdown",
   "metadata": {},
   "source": [
    "Agora, sabemos como criar classes e instanciar objetos, mas como organizamos eles? Para programas pequenos, podemos apenas colocar todas as nossas classes em um arquivo e adicionar um pouco script no final do arquivo para iniciá-los interagindo. No entanto, à medida que nossos projetos crescem, pode ser difícil encontrar uma classe que precise ser editada entre as muitas classes que definimos. É aqui que entram os módulos. Módulos são simplesmente Python arquivos, nada mais. O único arquivo em nosso pequeno programa é um módulo. Dois Python arquivos são dois módulos. Se tivermos dois arquivos na mesma pasta, podemos carregar uma classe de um módulo para uso no outro módulo."
   ]
  },
  {
   "attachments": {},
   "cell_type": "markdown",
   "metadata": {},
   "source": [
    "Por exemplo, se estivermos construindo um sistema de comércio eletrônico, provavelmente armazenaremos um muitos dados em um banco de dados. Podemos colocar todas as classes e funções relacionadas ao banco de dados access em um arquivo separado (vamos chamá-lo de algo sensato: database.py). Então, nosso outros módulos (por exemplo, modelos de clientes, informações de produtos e inventário) pode importar classes desse módulo para acessar o banco de dados."
   ]
  },
  {
   "attachments": {},
   "cell_type": "markdown",
   "metadata": {},
   "source": [
    "A instrução import é usada para importar módulos ou classes ou funções específicas a partir de módulos. Já vimos um exemplo disso em nossa classe Point no seção anterior. Usamos a instrução de importação para obter a matemática integrada do Python módulo e use sua função sqrt em nosso cálculo de distância."
   ]
  },
  {
   "attachments": {},
   "cell_type": "markdown",
   "metadata": {},
   "source": [
    "Aqui está um exemplo concreto. Suponha que temos um módulo chamado database.py que contém uma classe chamada Database e um segundo módulo chamado products.py que é responsável por consultas relacionadas ao produto. Neste ponto, não precisamos pensar muito muito sobre o conteúdo desses arquivos. O que sabemos é que products.py precisa instanciar a classe Database de database.py para que possa executar consultas em a tabela de produtos no banco de dados."
   ]
  },
  {
   "attachments": {},
   "cell_type": "markdown",
   "metadata": {},
   "source": [
    "Existem diversas variações na sintaxe da instrução de importação que podem ser usadas para acesse a aula:"
   ]
  },
  {
   "cell_type": "code",
   "execution_count": null,
   "metadata": {},
   "outputs": [],
   "source": [
    "import database\n",
    "db = database.Database()\n",
    "# Do queries on db"
   ]
  },
  {
   "attachments": {},
   "cell_type": "markdown",
   "metadata": {},
   "source": [
    "Esta versão importa o módulo de banco de dados para o namespace products (a lista de nomes atualmente acessíveis em um módulo ou função), então qualquer classe ou função em o módulo de banco de dados pode ser acessado usando a notação database.<something>. Como alternativa, podemos importar apenas uma classe que precisamos usando o from...import sintaxe:"
   ]
  },
  {
   "cell_type": "code",
   "execution_count": null,
   "metadata": {},
   "outputs": [],
   "source": [
    "from database import Database\n",
    "db = Database()\n",
    "# Do queries on db"
   ]
  },
  {
   "attachments": {},
   "cell_type": "markdown",
   "metadata": {},
   "source": [
    "Se, por algum motivo, produtos já tiverem uma classe chamada Banco de Dados e não queremos que os dois nomes sejam confundidos, podemos renomear a classe quando usada dentro do módulo de produtos:"
   ]
  },
  {
   "cell_type": "code",
   "execution_count": null,
   "metadata": {},
   "outputs": [],
   "source": [
    "from database import Database as DB\n",
    "db = DB()\n",
    "# Do queries on db"
   ]
  },
  {
   "attachments": {},
   "cell_type": "markdown",
   "metadata": {},
   "source": [
    "Também podemos importar vários itens em uma declaração. Se nosso módulo de banco de dados também contém uma classe Query, podemos importar ambas as classes usando:"
   ]
  },
  {
   "cell_type": "code",
   "execution_count": null,
   "metadata": {},
   "outputs": [],
   "source": [
    "from database import Database, Query"
   ]
  },
  {
   "attachments": {},
   "cell_type": "markdown",
   "metadata": {},
   "source": [
    "Algumas fontes dizem que podemos importar todas as classes e funções do banco de dados módulo usando esta sintaxe:"
   ]
  },
  {
   "cell_type": "code",
   "execution_count": null,
   "metadata": {},
   "outputs": [],
   "source": [
    "from database import *"
   ]
  },
  {
   "attachments": {},
   "cell_type": "markdown",
   "metadata": {},
   "source": [
    "Não faça isso. Todo programador Python experiente dirá que você deve nunca use esta sintaxe. Eles usarão justificativas obscuras como \"isso atrapalha o namespace\", o que não faz muito sentido para iniciantes. Uma maneira de saber por quê evitar essa sintaxe é usá-la e tentar entender seu código dois anos depois. Mas podemos economizar algum tempo e dois anos de código mal escrito com uma rápida explicação agora!"
   ]
  },
  {
   "attachments": {},
   "cell_type": "markdown",
   "metadata": {},
   "source": [
    "Quando importamos explicitamente a classe do banco de dados no topo do nosso arquivo usando from database import Database, podemos ver facilmente de onde vem a classe Database. Podemos usar db = Database() 400 linhas mais tarde no arquivo e podemos ver rapidamente as importações para ver de onde veio essa classe de banco de dados. Então, se precisarmos de esclarecimentos sobre como usar a classe Database, podemos visitar o arquivo original (ou importar o módulo no interpretador interativo e use o comando help(database.Database)). No entanto, se usarmos a sintaxe from database import *, levará muito mais tempo para encontrar onde essa classe está localizada. A manutenção do código se torna um pesadelo."
   ]
  },
  {
   "attachments": {},
   "cell_type": "markdown",
   "metadata": {},
   "source": [
    "Além disso, a maioria dos editores pode fornecer funcionalidade extra, como código confiável conclusão, a capacidade de pular para a definição de uma classe ou documentação em linha, se forem usadas importações normais. A sintaxe import * geralmente destrói completamente seus capacidade de fazer isso de forma confiável."
   ]
  },
  {
   "attachments": {},
   "cell_type": "markdown",
   "metadata": {},
   "source": [
    "Por fim, usar a sintaxe import * pode trazer objetos inesperados para nosso local namespace. Claro, ele importará todas as classes e funções definidas no módulo sendo importado, mas também importará quaisquer classes ou módulos que foram eles mesmos importados para esse arquivo!"
   ]
  },
  {
   "attachments": {},
   "cell_type": "markdown",
   "metadata": {},
   "source": [
    "Todo nome usado em um módulo deve vir de um local bem especificado, seja definido nesse módulo ou explicitamente importado de outro módulo. deveria não há variáveis mágicas que parecem surgir do nada. Devemos ser sempre capazes para identificar imediatamente a origem dos nomes em nosso namespace atual. EU prometo que, se você usar essa sintaxe maligna, um dia terá momentos de \"de onde diabos essa classe pode estar vindo?\"."
   ]
  },
  {
   "attachments": {},
   "cell_type": "markdown",
   "metadata": {},
   "source": [
    "#### Organizando os módulos"
   ]
  },
  {
   "attachments": {},
   "cell_type": "markdown",
   "metadata": {},
   "source": [
    "À medida que um projeto cresce em uma coleção de mais e mais módulos, podemos descobrir que queremos adicionar outro nível de abstração, algum tipo de hierarquia aninhada em nosso níveis dos módulos. No entanto, não podemos colocar módulos dentro de módulos; um arquivo pode conter afinal, apenas um arquivo, e os módulos nada mais são do que arquivos Python."
   ]
  },
  {
   "attachments": {},
   "cell_type": "markdown",
   "metadata": {},
   "source": [
    "Os arquivos, no entanto, podem ir para pastas, assim como os módulos. Um pacote é uma coleção de módulos em uma pasta. O nome do pacote é o nome da pasta. Tudo o que precisamos fazer para dizer ao Python que uma pasta é um pacote é colocar um arquivo (normalmente vazio) na pasta chamado __init__.py. Se esquecermos este arquivo, não poderemos importar módulos de aquela pasta."
   ]
  },
  {
   "attachments": {},
   "cell_type": "markdown",
   "metadata": {},
   "source": [
    "Vamos colocar nossos módulos dentro de um pacote de comércio eletrônico em nossa pasta de trabalho, que também conterá um arquivo main.py para iniciar o programa. Vamos adicionalmente adicionar outro pacote no pacote de comércio eletrônico para várias opções de pagamento. A pasta hierarquia ficará assim:"
   ]
  },
  {
   "attachments": {},
   "cell_type": "markdown",
   "metadata": {},
   "source": [
    "parent_directory/\n",
    "main.py\n",
    "ecommerce/\n",
    "__init__.py\n",
    "database.py\n",
    "products.py\n",
    "payments/\n",
    "__init__.py\n",
    "square.py\n",
    "stripe.py"
   ]
  },
  {
   "attachments": {},
   "cell_type": "markdown",
   "metadata": {},
   "source": [
    "Ao importar módulos ou classes entre pacotes, devemos ser cautelosos a sintaxe. No Python 3, existem duas formas de importar módulos: importações absolutas e importações relativas."
   ]
  },
  {
   "attachments": {},
   "cell_type": "markdown",
   "metadata": {},
   "source": [
    "#### Importações absolutas"
   ]
  },
  {
   "attachments": {},
   "cell_type": "markdown",
   "metadata": {},
   "source": [
    "As importações absolutas especificam o caminho completo para o módulo, função ou caminho que deseja importar. Se precisarmos acessar a classe Product dentro do módulo products, poderíamos usar qualquer uma dessas sintaxes para fazer uma importação absoluta:"
   ]
  },
  {
   "cell_type": "code",
   "execution_count": null,
   "metadata": {},
   "outputs": [],
   "source": [
    "import ecommerce.products\n",
    "product = ecommerce.products.Product()"
   ]
  },
  {
   "attachments": {},
   "cell_type": "markdown",
   "metadata": {},
   "source": [
    "ou"
   ]
  },
  {
   "cell_type": "code",
   "execution_count": null,
   "metadata": {},
   "outputs": [],
   "source": [
    "from ecommerce.products import Product\n",
    "product = Product()"
   ]
  },
  {
   "attachments": {},
   "cell_type": "markdown",
   "metadata": {},
   "source": [
    "ou"
   ]
  },
  {
   "cell_type": "code",
   "execution_count": null,
   "metadata": {},
   "outputs": [],
   "source": [
    "from ecommerce import products\n",
    "product = products.Product()"
   ]
  },
  {
   "attachments": {},
   "cell_type": "markdown",
   "metadata": {},
   "source": [
    "As instruções de importação usam o operador de período para separar pacotes ou módulos."
   ]
  },
  {
   "attachments": {},
   "cell_type": "markdown",
   "metadata": {},
   "source": [
    "Essas instruções funcionarão em qualquer módulo. Poderíamos instanciar um Produto class usando esta sintaxe em main.py, no módulo de banco de dados ou em qualquer um dos dois módulos de pagamento. De fato, supondo que os pacotes estejam disponíveis para Python, será capaz de importá-los. Por exemplo, os pacotes também podem ser instalados no Python pasta de pacotes do site ou a variável de ambiente PYTHONPATH pode ser personalizada para dizer dinamicamente ao Python quais pastas procurar por pacotes e módulos vai importar."
   ]
  },
  {
   "attachments": {},
   "cell_type": "markdown",
   "metadata": {},
   "source": [
    "Então, com essas escolhas, qual sintaxe escolhemos? Depende do seu gosto pessoal e o aplicativo em questão. Se houver dezenas de classes e funções dentro do módulo de produtos que desejo usar, geralmente importo o nome do módulo usando o da sintaxe de importação de produtos de comércio eletrônico e, em seguida, acesse as classes individuais usando produtos.Produto. Se eu precisar apenas de uma ou duas classes dos produtos módulo, posso importá-los diretamente usando a importação de ecommerce.proucts Sintaxe do produto. Eu pessoalmente não uso a primeira sintaxe com muita frequência, a menos que eu tenha algum tipo de conflito de nome (por exemplo, preciso acessar dois módulos chamados produtos e preciso separá-los). Faça o que você pensa torna seu código mais elegante."
   ]
  },
  {
   "attachments": {},
   "cell_type": "markdown",
   "metadata": {},
   "source": [
    "Ao trabalhar com módulos relacionados em um pacote, parece meio bobo especificar o caminho completo; sabemos qual é o nome do nosso módulo pai. É aqui que o parente as importações entram. As importações relativas são basicamente uma maneira de dizer encontrar uma classe, função, ou módulo conforme está posicionado em relação ao módulo atual. Por exemplo, se estamos trabalhando no módulo de produtos e queremos importar a classe Banco de dados de o módulo de banco de dados próximo a ele, poderíamos usar uma importação relativa:"
   ]
  },
  {
   "cell_type": "code",
   "execution_count": null,
   "metadata": {},
   "outputs": [],
   "source": [
    "from .database import Database"
   ]
  },
  {
   "attachments": {},
   "cell_type": "markdown",
   "metadata": {},
   "source": [
    "O ponto na frente do banco de dados diz \"use o módulo de banco de dados dentro do atual pacote\". Nesse caso, o pacote atual é o pacote que contém o products.py que estamos editando no momento, ou seja, o pacote de comércio eletrônico."
   ]
  },
  {
   "attachments": {},
   "cell_type": "markdown",
   "metadata": {},
   "source": [
    "Se estivéssemos editando o módulo paypal dentro do pacote ecommerce.payments, em vez disso, gostaríamos de dizer \"use o pacote de banco de dados dentro do pacote pai\". Isso é feito facilmente com dois períodos, conforme mostrado aqui:"
   ]
  },
  {
   "cell_type": "code",
   "execution_count": null,
   "metadata": {},
   "outputs": [],
   "source": [
    "from ..database import Database"
   ]
  },
  {
   "attachments": {},
   "cell_type": "markdown",
   "metadata": {},
   "source": [
    "Podemos usar mais períodos para subir na hierarquia. Claro, também podemos desça por um lado e suba pelo outro. Não temos um exemplo profundo o suficiente hierarquia para ilustrar isso adequadamente, mas o seguinte seria uma importação válida se tínhamos um pacote ecommerce.contact contendo um módulo de e-mail e queríamos para importar a função send_mail para o nosso módulo paypal:"
   ]
  },
  {
   "cell_type": "code",
   "execution_count": null,
   "metadata": {},
   "outputs": [],
   "source": [
    "from ..contact.email import send_mail"
   ]
  },
  {
   "attachments": {},
   "cell_type": "markdown",
   "metadata": {},
   "source": [
    "Essa importação usa dois períodos para dizer, o pai do pacote de pagamentos e, em seguida, usa\n",
    "a sintaxe normal de package.module para voltar ao pacote de contato."
   ]
  },
  {
   "attachments": {},
   "cell_type": "markdown",
   "metadata": {},
   "source": [
    "Por fim, podemos importar código diretamente de pacotes, em vez de apenas módulos dentro pacotes. Neste exemplo, temos um pacote de ecommerce contendo dois módulos nomeados database.py e products.py. O módulo de banco de dados contém uma variável db que é acessado de muitos lugares. Não seria conveniente se isso pudesse ser importado como importar ecommerce.db em vez de importar ecommerce.database.db?"
   ]
  },
  {
   "attachments": {},
   "cell_type": "markdown",
   "metadata": {},
   "source": [
    "Lembra do arquivo __init__.py que define um diretório como um pacote? Este arquivo pode conter qualquer variável ou declaração de classe que quisermos, e eles estarão disponíveis como parte de o pacote. Em nosso exemplo, se o arquivo ecommerce/__init__.py contiver esta linha:"
   ]
  },
  {
   "cell_type": "code",
   "execution_count": null,
   "metadata": {},
   "outputs": [],
   "source": [
    "from .database import db"
   ]
  },
  {
   "attachments": {},
   "cell_type": "markdown",
   "metadata": {},
   "source": [
    "Podemos então acessar o atributo db de main.py ou qualquer outro arquivo usando esta importação:"
   ]
  },
  {
   "cell_type": "code",
   "execution_count": null,
   "metadata": {},
   "outputs": [],
   "source": [
    "from ecommerce import db"
   ]
  },
  {
   "attachments": {},
   "cell_type": "markdown",
   "metadata": {},
   "source": [
    "Pode ajudar pensar no arquivo __init__.py como se fosse um arquivo ecommerce.py se isso arquivo eram um módulo em vez de um pacote. Isso também pode ser útil se você colocar todos os seus código em um único módulo e depois decidir quebrá-lo em um pacote de módulos. O arquivo __init__.py para o novo pacote ainda pode ser o principal ponto de contato para outros módulos conversando com ele, mas o código pode ser organizado internamente em vários diferentes módulos ou subpacotes."
   ]
  },
  {
   "attachments": {},
   "cell_type": "markdown",
   "metadata": {},
   "source": [
    "Eu recomendo não colocar todo o seu código em um arquivo __init__.py, no entanto. Programadores não espere que a lógica real aconteça neste arquivo, e muito parecido com from x import *, pode enganá-los se estiverem procurando a declaração de um determinado pedaço de código e não podem encontrá-lo até que verifiquem __init__.py."
   ]
  },
  {
   "attachments": {},
   "cell_type": "markdown",
   "metadata": {},
   "source": [
    "#### Organizando o conteúdo do módulo"
   ]
  },
  {
   "attachments": {},
   "cell_type": "markdown",
   "metadata": {},
   "source": [
    "Dentro de qualquer módulo, podemos especificar variáveis, classes ou funções. Eles podem ser uma maneira prática de armazenar o estado global sem conflitos de namespace. Por exemplo, nós tenho importado a classe Database em vários módulos e, em seguida, instanciado mas pode fazer mais sentido ter apenas um objeto de banco de dados globalmente disponível do módulo de banco de dados. O módulo de banco de dados pode ter esta aparência:"
   ]
  },
  {
   "cell_type": "code",
   "execution_count": null,
   "metadata": {},
   "outputs": [],
   "source": [
    "class Database:\n",
    "    # the database implementation\n",
    "    pass\n",
    "    database = Database()"
   ]
  },
  {
   "attachments": {},
   "cell_type": "markdown",
   "metadata": {},
   "source": [
    "Então podemos usar qualquer um dos métodos de importação que discutimos para acessar o banco de dados objeto, por exemplo:"
   ]
  },
  {
   "cell_type": "code",
   "execution_count": null,
   "metadata": {},
   "outputs": [],
   "source": [
    "from ecommerce.database import database"
   ]
  },
  {
   "attachments": {},
   "cell_type": "markdown",
   "metadata": {},
   "source": [
    "Um problema com a classe anterior é que o objeto de banco de dados é criado imediatamente quando o módulo é importado pela primeira vez, que geralmente é quando o programa começa. Isso nem sempre é ideal, pois a conexão com um banco de dados pode demorar um pouco, retardando a inicialização, ou as informações de conexão do banco de dados podem ainda não estar disponível. Poderíamos atrasar a criação do banco de dados até que seja realmente necessário chamando uma função initialize_database para criar a variável de nível de módulo:"
   ]
  },
  {
   "cell_type": "code",
   "execution_count": null,
   "metadata": {},
   "outputs": [],
   "source": [
    "class Database:\n",
    "    # the database implementation\n",
    "    pass\n",
    "\n",
    "database = None\n",
    "\n",
    "def initialize_database():\n",
    "    global database\n",
    "\n",
    "database = Database()"
   ]
  },
  {
   "attachments": {},
   "cell_type": "markdown",
   "metadata": {},
   "source": [
    "A palavra-chave global informa ao Python que a variável de banco de dados dentro de initialize_ database é o nível de módulo que acabamos de definir. Se não tivéssemos especificado o variável como global, Python teria criado uma nova variável local que seria descartado quando o método sai, deixando o valor de nível de módulo inalterado."
   ]
  },
  {
   "attachments": {},
   "cell_type": "markdown",
   "metadata": {},
   "source": [
    "Como esses dois exemplos ilustram, todo código em nível de módulo é executado imediatamente em no momento em que é importado. No entanto, se estiver dentro de um método ou função, a função será ser criado, mas seu código interno não será executado até que a função seja chamada. Esse pode ser complicado para scripts (como o script principal em nosso exemplo de e-commerce) que realizam a execução. Freqüentemente, escreveremos um programa que faz algo útil, e depois descobrimos que queremos importar uma função ou classe desse módulo em um programa diferente. No entanto, assim que o importamos, qualquer código no nível do módulo é imediatamente executado. Se não tivermos cuidado, podemos acabar executando o primeiro programa quando realmente pretendíamos acessar apenas algumas funções dentro desse módulo."
   ]
  },
  {
   "attachments": {},
   "cell_type": "markdown",
   "metadata": {},
   "source": [
    "Para resolver isso, devemos sempre colocar nosso código de inicialização em uma função (convencionalmente, chamado main) e só executamos essa função quando sabemos que estamos executando o module como um script, mas não quando nosso código está sendo importado de um script diferente. Mas como sabemos disso?"
   ]
  },
  {
   "cell_type": "code",
   "execution_count": null,
   "metadata": {},
   "outputs": [],
   "source": [
    "class UsefulClass:\n",
    "    '''This class might be useful to other modules.'''\n",
    "    pass\n",
    "    def main():\n",
    "        '''creates a useful class and does something with it for our\n",
    "        module.'''\n",
    "\n",
    "        useful = UsefulClass()\n",
    "        print(useful)\n",
    "\n",
    "if __name__ == \"__main__\":\n",
    "    main()"
   ]
  },
  {
   "attachments": {},
   "cell_type": "markdown",
   "metadata": {},
   "source": [
    "Cada módulo tem uma variável especial __name__ (lembre-se, Python usa double sublinhados para variáveis especiais, como o método __init__ de uma classe) que especifica o nome do módulo quando ele foi importado. Quando o módulo é executado diretamente com python module.py, ele nunca é importado, então o __name__ é definido arbitrariamente como o string \"__main__\". Torne uma política agrupar todos os seus scripts em um if __name__ == \"__main__\": teste, apenas no caso de você escrever uma função que achará útil para ser importada por outro código algum dia."
   ]
  },
  {
   "attachments": {},
   "cell_type": "markdown",
   "metadata": {},
   "source": [
    "Assim, os métodos vão em classes, que vão em módulos, que vão em pacotes. Isso é tudo há para isso?"
   ]
  },
  {
   "attachments": {},
   "cell_type": "markdown",
   "metadata": {},
   "source": [
    "Na verdade não. Esta é a ordem típica das coisas em um programa Python, mas não é a único esquema possível. As classes podem ser definidas em qualquer lugar. Eles são normalmente definidos em nível de módulo, mas também podem ser definidos dentro de uma função ou método, assim:"
   ]
  },
  {
   "cell_type": "code",
   "execution_count": null,
   "metadata": {},
   "outputs": [],
   "source": [
    "def format_string(string, formatter=None):\n",
    "    '''Format a string using the formatter object, which\n",
    "    is expected to have a format() method that accepts\n",
    "    a string.'''\n",
    "\n",
    "class DefaultFormatter:\n",
    "    '''Format a string in title case.'''\n",
    "\n",
    "    def format(self, string):\n",
    "        return str(string).title()\n",
    "\n",
    "if not formatter:\n",
    "    formatter = DefaultFormatter()\n",
    "    return formatter.format(string)\n",
    "\n",
    "hello_string = \"hello world, how are you today?\"\n",
    "print(\" input: \" + hello_string)\n",
    "print(\"output: \" + format_string(hello_string))"
   ]
  },
  {
   "attachments": {},
   "cell_type": "markdown",
   "metadata": {},
   "source": [
    "A saída será a seguinte:entrada: olá mundo, como você está hoje?\n",
    "saída: Hello World, How Are You Today?"
   ]
  },
  {
   "attachments": {},
   "cell_type": "markdown",
   "metadata": {},
   "source": [
    "A função format_string aceita uma string e um objeto formatador opcional e, em seguida, aplica o formatador a essa string. Se nenhum formatador for fornecido, ele cria um formatador como uma classe local e a instancia. Uma vez que é criado dentro do escopo de a função, esta classe não pode ser acessada de qualquer lugar fora dessa função. Da mesma forma, as funções também podem ser definidas dentro de outras funções; em geral, qualquer A instrução Python pode ser executada a qualquer momento."
   ]
  },
  {
   "attachments": {},
   "cell_type": "markdown",
   "metadata": {},
   "source": [
    "Essas classes e funções internas são ocasionalmente úteis para itens únicos que não requerem ou merecem seu próprio escopo no nível do módulo, ou apenas fazem sentido dentro de um único método. No entanto, não é comum ver código Python que usa frequentemente esta técnica."
   ]
  },
  {
   "attachments": {},
   "cell_type": "markdown",
   "metadata": {},
   "source": [
    "#### Quem pode acessar meus dados?"
   ]
  },
  {
   "cell_type": "markdown",
   "metadata": {},
   "source": []
  },
  {
   "cell_type": "markdown",
   "metadata": {},
   "source": []
  },
  {
   "cell_type": "markdown",
   "metadata": {},
   "source": []
  },
  {
   "cell_type": "markdown",
   "metadata": {},
   "source": []
  },
  {
   "cell_type": "markdown",
   "metadata": {},
   "source": []
  },
  {
   "cell_type": "markdown",
   "metadata": {},
   "source": []
  },
  {
   "cell_type": "markdown",
   "metadata": {},
   "source": []
  },
  {
   "cell_type": "code",
   "execution_count": null,
   "metadata": {},
   "outputs": [],
   "source": [
    "%reload_ext watermark\n",
    "%watermark -a \"Caique Miranda\" -gu \"caiquemiranda\" -iv"
   ]
  },
  {
   "attachments": {},
   "cell_type": "markdown",
   "metadata": {},
   "source": [
    "### End."
   ]
  }
 ],
 "metadata": {
  "language_info": {
   "name": "python"
  },
  "orig_nbformat": 4
 },
 "nbformat": 4,
 "nbformat_minor": 2
}
