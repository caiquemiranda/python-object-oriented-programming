{
 "cells": [
  {
   "cell_type": "code",
   "execution_count": 1,
   "metadata": {},
   "outputs": [
    {
     "name": "stdout",
     "output_type": "stream",
     "text": [
      "Versão de Python Neste Jupyter Notebook: 3.10.5\n"
     ]
    }
   ],
   "source": [
    "# Versão da Linguagem Python\n",
    "from platform import python_version\n",
    "print('Versão de Python Neste Jupyter Notebook:', python_version())"
   ]
  },
  {
   "attachments": {},
   "cell_type": "markdown",
   "metadata": {},
   "source": [
    "### Object-oriented Design"
   ]
  },
  {
   "attachments": {},
   "cell_type": "markdown",
   "metadata": {},
   "source": [
    "No desenvolvimento de software, o design é frequentemente considerado como a etapa realizada antes da programação. Isso não é verdade; na realidade, análise, programação e design tendem a se sobrepor, combinar e entrelaçar. Neste capítulo, abordaremos os seguintes tópicos:"
   ]
  },
  {
   "attachments": {},
   "cell_type": "markdown",
   "metadata": {},
   "source": [
    "•\n",
    "O que significa orientação a objetos\n",
    "•\n",
    "A diferença entre projeto orientado a objetos e programação orientada a objetos\n",
    "•\n",
    "Os princípios básicos de um projeto orientado a objetos\n",
    "•\n",
    "Basic Unified Modeling Language (UML) e quando não é mau"
   ]
  },
  {
   "attachments": {},
   "cell_type": "markdown",
   "metadata": {},
   "source": [
    "#### Introducing object-oriented"
   ]
  },
  {
   "attachments": {},
   "cell_type": "markdown",
   "metadata": {},
   "source": [
    "Todo mundo sabe o que é um objeto - uma coisa tangível que podemos sentir, sentir,\n",
    "e manipular. Os primeiros objetos com os quais interagimos são tipicamente brinquedos de bebê. Blocos de madeira, formas de plástico e peças de quebra-cabeça grandes são os primeiros objetos comuns. Os bebês aprendem rapidamente que certos objetos fazem certas coisas: sinos tocam,\n",
    "os botões são pressionados e as alavancas são puxadas."
   ]
  },
  {
   "attachments": {},
   "cell_type": "markdown",
   "metadata": {},
   "source": [
    "A definição de um objeto no desenvolvimento de software não é muito diferente. Os objetos de software normalmente não são coisas tangíveis que você pode pegar, sentir ou sentir, mas são modelos de algo que pode fazer certas coisas e receber certas coisas. Formalmente, um objeto é uma coleção de dados e comportamentos associados."
   ]
  },
  {
   "attachments": {},
   "cell_type": "markdown",
   "metadata": {},
   "source": [
    "Então, sabendo o que é um objeto, o que significa ser orientado a objetos? Orientado significa simplesmente direcionado para. Portanto, orientado a objetos significa funcionalmente direcionado para a modelagem de objetos. Esta é uma das muitas técnicas usadas para modelar sistemas complexos, descrevendo uma coleção de objetos que interagem por meio de seus dados e comportamento."
   ]
  },
  {
   "attachments": {},
   "cell_type": "markdown",
   "metadata": {},
   "source": [
    "Se você leu algum hype, provavelmente já se deparou com os termos orientação a objetos\n",
    "análise, projeto orientado a objeto, análise e projeto orientado a objeto e projeto orientado a objeto\n",
    "programação. Todos esses são conceitos altamente relacionados sob o conceito geral\n",
    "guarda-chuva orientado a objetos."
   ]
  },
  {
   "attachments": {},
   "cell_type": "markdown",
   "metadata": {},
   "source": [
    "Na verdade, análise, projeto e programação são etapas do desenvolvimento de software.\n",
    "Chamá-los de orientados a objetos simplesmente especifica qual estilo de desenvolvimento de software\n",
    "está sendo perseguido."
   ]
  },
  {
   "attachments": {},
   "cell_type": "markdown",
   "metadata": {},
   "source": [
    "A análise orientada a objetos (OOA) é o processo de olhar para um problema, sistema ou\n",
    "tarefa (que alguém quer transformar em um aplicativo) e identificando os objetos\n",
    "e interações entre esses objetos. A fase de análise é tudo sobre o que precisa\n",
    "para ser feito."
   ]
  },
  {
   "attachments": {},
   "cell_type": "markdown",
   "metadata": {},
   "source": [
    "A saída do estágio de análise é um conjunto de requisitos. se nós fôssemos completar o\n",
    "etapa de análise em uma etapa, teríamos transformado uma tarefa, como, preciso de um site,\n",
    "em um conjunto de requisitos. Por exemplo:"
   ]
  },
  {
   "attachments": {},
   "cell_type": "markdown",
   "metadata": {},
   "source": [
    "Os visitantes do site precisam ser capazes de (itálico representa ações, negrito representa objetos):\n",
    "• rever nossa história\n",
    "• se inscrever em empregos\n",
    "• navegar, comparar e encomendar produtos"
   ]
  },
  {
   "attachments": {},
   "cell_type": "markdown",
   "metadata": {},
   "source": [
    "De certa forma, a análise é um nome impróprio. O bebê que discutimos anteriormente não\n",
    "analise os blocos e as peças do quebra-cabeça. Em vez disso, ele explorará seu ambiente,\n",
    "manipular formas e ver onde elas podem se encaixar. Uma frase melhor pode\n",
    "ser exploração orientada a objetos. No desenvolvimento de software, os estágios iniciais\n",
    "de análise incluem entrevistar clientes, estudar seus processos e\n",
    "eliminando possibilidades."
   ]
  },
  {
   "attachments": {},
   "cell_type": "markdown",
   "metadata": {},
   "source": [
    "O projeto orientado a objetos (OOD) é o processo de converter tais requisitos em\n",
    "uma especificação de implementação. O designer deve nomear os objetos, definir o\n",
    "comportamentos e especifique formalmente quais objetos podem ativar comportamentos específicos em\n",
    "outros objetos. O estágio de design é sobre como as coisas devem ser feitas."
   ]
  },
  {
   "attachments": {},
   "cell_type": "markdown",
   "metadata": {},
   "source": [
    "A saída do estágio de design é uma especificação de implementação. Se nós fossemos\n",
    "para concluir a etapa de projeto em uma única etapa, teríamos transformado os requisitos\n",
    "definido durante a análise orientada a objetos em um conjunto de classes e interfaces que podem\n",
    "ser implementado em (idealmente) qualquer linguagem de programação orientada a objetos."
   ]
  },
  {
   "attachments": {},
   "cell_type": "markdown",
   "metadata": {},
   "source": [
    "A programação orientada a objetos (OOP) é o processo de converter isso perfeitamente\n",
    "design definido em um programa de trabalho que faz exatamente o que o CEO\n",
    "originalmente solicitado."
   ]
  },
  {
   "attachments": {},
   "cell_type": "markdown",
   "metadata": {},
   "source": [
    "Okay, certo! Seria lindo se o mundo encontrasse esse ideal e pudéssemos seguir esses\n",
    "estágios um por um, em perfeita ordem, como todos os velhos livros didáticos nos diziam. Como de costume, o\n",
    "mundo real é muito mais obscuro. Por mais que tentemos separar esses estágios,\n",
    "sempre encontraremos coisas que precisam de uma análise mais aprofundada enquanto estamos projetando. Quando\n",
    "estamos programando, encontramos características que precisam ser esclarecidas no projeto."
   ]
  },
  {
   "attachments": {},
   "cell_type": "markdown",
   "metadata": {},
   "source": [
    "A maior parte do desenvolvimento do século XXI acontece em um desenvolvimento iterativo\n",
    "modelo. No desenvolvimento iterativo, uma pequena parte da tarefa é modelada, projetada,\n",
    "e programado, então o programa é revisto e ampliado para melhorar cada\n",
    "recurso e incluir novos recursos em uma série de ciclos curtos de desenvolvimento."
   ]
  },
  {
   "attachments": {},
   "cell_type": "markdown",
   "metadata": {},
   "source": [
    "O restante deste livro é sobre programação orientada a objetos, mas neste capítulo,\n",
    "cobriremos os princípios básicos de orientação a objetos no contexto do design. Esse\n",
    "nos permite entender esses conceitos (bastante simples) sem ter que argumentar\n",
    "com sintaxe de software ou interpretadores Python."
   ]
  },
  {
   "attachments": {},
   "cell_type": "markdown",
   "metadata": {},
   "source": [
    "### Objects in Python"
   ]
  },
  {
   "attachments": {},
   "cell_type": "markdown",
   "metadata": {},
   "source": [
    "#### Creating Python classes"
   ]
  },
  {
   "attachments": {},
   "cell_type": "markdown",
   "metadata": {},
   "source": [
    "#### Adding attributes"
   ]
  },
  {
   "attachments": {},
   "cell_type": "markdown",
   "metadata": {},
   "source": [
    "#### Making it do something"
   ]
  },
  {
   "attachments": {},
   "cell_type": "markdown",
   "metadata": {},
   "source": [
    "#### Talking to yourself"
   ]
  },
  {
   "attachments": {},
   "cell_type": "markdown",
   "metadata": {},
   "source": [
    "#### More arguments"
   ]
  },
  {
   "attachments": {},
   "cell_type": "markdown",
   "metadata": {},
   "source": [
    "#### Initializing the object"
   ]
  },
  {
   "attachments": {},
   "cell_type": "markdown",
   "metadata": {},
   "source": [
    "#### Explaining yourself"
   ]
  },
  {
   "attachments": {},
   "cell_type": "markdown",
   "metadata": {},
   "source": [
    "#### Modules and packages"
   ]
  },
  {
   "attachments": {},
   "cell_type": "markdown",
   "metadata": {},
   "source": [
    "#### Organizing the modules"
   ]
  },
  {
   "attachments": {},
   "cell_type": "markdown",
   "metadata": {},
   "source": [
    "##### Absolute imports"
   ]
  },
  {
   "attachments": {},
   "cell_type": "markdown",
   "metadata": {},
   "source": [
    "##### Relative imports"
   ]
  },
  {
   "attachments": {},
   "cell_type": "markdown",
   "metadata": {},
   "source": [
    "#### Organizing module contents"
   ]
  },
  {
   "attachments": {},
   "cell_type": "markdown",
   "metadata": {},
   "source": [
    "#### Who can access my data?"
   ]
  },
  {
   "attachments": {},
   "cell_type": "markdown",
   "metadata": {},
   "source": [
    "#### Third-party libraries"
   ]
  },
  {
   "attachments": {},
   "cell_type": "markdown",
   "metadata": {},
   "source": [
    "#### Case study"
   ]
  },
  {
   "cell_type": "code",
   "execution_count": 2,
   "metadata": {},
   "outputs": [
    {
     "name": "stdout",
     "output_type": "stream",
     "text": [
      "Author: Caique Miranda\n",
      "\n",
      "Github username: caiquemiranda\n",
      "\n"
     ]
    }
   ],
   "source": [
    "%reload_ext watermark\n",
    "%watermark -a \"Caique Miranda\" -gu \"caiquemiranda\" -iv"
   ]
  },
  {
   "attachments": {},
   "cell_type": "markdown",
   "metadata": {},
   "source": [
    "### End."
   ]
  }
 ],
 "metadata": {
  "kernelspec": {
   "display_name": "Python 3",
   "language": "python",
   "name": "python3"
  },
  "language_info": {
   "codemirror_mode": {
    "name": "ipython",
    "version": 3
   },
   "file_extension": ".py",
   "mimetype": "text/x-python",
   "name": "python",
   "nbconvert_exporter": "python",
   "pygments_lexer": "ipython3",
   "version": "3.10.5"
  },
  "orig_nbformat": 4
 },
 "nbformat": 4,
 "nbformat_minor": 2
}
