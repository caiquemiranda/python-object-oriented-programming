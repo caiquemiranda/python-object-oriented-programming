{
 "cells": [
  {
   "cell_type": "code",
   "execution_count": 1,
   "metadata": {},
   "outputs": [
    {
     "name": "stdout",
     "output_type": "stream",
     "text": [
      "Versão de Python Neste Jupyter Notebook: 3.10.5\n"
     ]
    }
   ],
   "source": [
    "# Versão da Linguagem Python\n",
    "from platform import python_version\n",
    "print('Versão de Python Neste Jupyter Notebook:', python_version())"
   ]
  },
  {
   "attachments": {},
   "cell_type": "markdown",
   "metadata": {},
   "source": [
    "### Design Orientado a Objetos"
   ]
  },
  {
   "attachments": {},
   "cell_type": "markdown",
   "metadata": {},
   "source": [
    "No desenvolvimento de software, o design é frequentemente considerado como a etapa realizada antes da programação. Isso não é verdade; na realidade, análise, programação e design tendem a se sobrepor, combinar e entrelaçar. Neste capítulo, abordaremos os seguintes tópicos:"
   ]
  },
  {
   "attachments": {},
   "cell_type": "markdown",
   "metadata": {},
   "source": [
    "• O que significa orientação a objetos\n",
    "\n",
    "• A diferença entre projeto orientado a objetos e programação orientada a objetos\n",
    "\n",
    "• Os princípios básicos de um projeto orientado a objetos\n",
    "\n",
    "• Basic Unified Modeling Language (UML) e quando não é mau"
   ]
  },
  {
   "attachments": {},
   "cell_type": "markdown",
   "metadata": {},
   "source": [
    "#### Introdução à Orientação a Objetos"
   ]
  },
  {
   "attachments": {},
   "cell_type": "markdown",
   "metadata": {},
   "source": [
    "Todo mundo sabe o que é um objeto - uma coisa tangível que podemos sentir, sentir,e manipular. Os primeiros objetos com os quais interagimos são tipicamente brinquedos de bebê. Blocos de madeira, formas de plástico e peças de quebra-cabeça grandes são os primeiros objetos comuns. Os bebês aprendem rapidamente que certos objetos fazem certas coisas: sinos tocam,os botões são pressionados e as alavancas são puxadas."
   ]
  },
  {
   "attachments": {},
   "cell_type": "markdown",
   "metadata": {},
   "source": [
    "A definição de um objeto no desenvolvimento de software não é muito diferente. Os objetos de software normalmente não são coisas tangíveis que você pode pegar, sentir ou sentir, mas são modelos de algo que pode fazer certas coisas e receber certas coisas. Formalmente, um objeto é uma coleção de dados e comportamentos associados."
   ]
  },
  {
   "attachments": {},
   "cell_type": "markdown",
   "metadata": {},
   "source": [
    "Então, sabendo o que é um objeto, o que significa ser orientado a objetos? Orientado significa simplesmente direcionado para. Portanto, orientado a objetos significa funcionalmente direcionado para a modelagem de objetos. Esta é uma das muitas técnicas usadas para modelar sistemas complexos, descrevendo uma coleção de objetos que interagem por meio de seus dados e comportamento."
   ]
  },
  {
   "attachments": {},
   "cell_type": "markdown",
   "metadata": {},
   "source": [
    "Se você leu algum hype, provavelmente já se deparou com os termos orientação a objetosanálise, projeto orientado a objeto, análise e projeto orientado a objeto e projeto orientado a objetoprogramação. Todos esses são conceitos altamente relacionados sob o conceito geralguarda-chuva orientado a objetos."
   ]
  },
  {
   "attachments": {},
   "cell_type": "markdown",
   "metadata": {},
   "source": [
    "Na verdade, análise, projeto e programação são etapas do desenvolvimento de software.Chamá-los de orientados a objetos simplesmente especifica qual estilo de desenvolvimento de softwareestá sendo perseguido."
   ]
  },
  {
   "attachments": {},
   "cell_type": "markdown",
   "metadata": {},
   "source": [
    "A análise orientada a objetos (OOA) é o processo de olhar para um problema, sistema ou tarefa (que alguém quer transformar em um aplicativo) e identificando os objetos e interações entre esses objetos. A fase de análise é tudo sobre o que precisa para ser feito."
   ]
  },
  {
   "attachments": {},
   "cell_type": "markdown",
   "metadata": {},
   "source": [
    "A saída do estágio de análise é um conjunto de requisitos. se nós fôssemos completar o etapa de análise em uma etapa, teríamos transformado uma tarefa, como, preciso de um site, em um conjunto de requisitos. Por exemplo:"
   ]
  },
  {
   "attachments": {},
   "cell_type": "markdown",
   "metadata": {},
   "source": [
    "Os visitantes do site precisam ser capazes de (itálico representa ações, negrito representa objetos):\n",
    "\n",
    "• rever nossa história\n",
    "• se inscrever em empregos\n",
    "• navegar, comparar e encomendar produtos"
   ]
  },
  {
   "attachments": {},
   "cell_type": "markdown",
   "metadata": {},
   "source": [
    "De certa forma, a análise é um nome impróprio. O bebê que discutimos anteriormente não analise os blocos e as peças do quebra-cabeça. Em vez disso, ele explorará seu ambiente, manipular formas e ver onde elas podem se encaixar. Uma frase melhor pode ser exploração orientada a objetos. No desenvolvimento de software, os estágios iniciais de análise incluem entrevistar clientes, estudar seus processos e eliminando possibilidades."
   ]
  },
  {
   "attachments": {},
   "cell_type": "markdown",
   "metadata": {},
   "source": [
    "O projeto orientado a objetos (OOD) é o processo de converter tais requisitos em uma especificação de implementação. O designer deve nomear os objetos, definir o comportamentos e especifique formalmente quais objetos podem ativar comportamentos específicos em outros objetos. O estágio de design é sobre como as coisas devem ser feitas."
   ]
  },
  {
   "attachments": {},
   "cell_type": "markdown",
   "metadata": {},
   "source": [
    "A saída do estágio de design é uma especificação de implementação. Se nós fossemos para concluir a etapa de projeto em uma única etapa, teríamos transformado os requisitos definido durante a análise orientada a objetos em um conjunto de classes e interfaces que podem ser implementado em (idealmente) qualquer linguagem de programação orientada a objetos."
   ]
  },
  {
   "attachments": {},
   "cell_type": "markdown",
   "metadata": {},
   "source": [
    "A programação orientada a objetos (OOP) é o processo de converter isso perfeitamente design definido em um programa de trabalho que faz exatamente o que o CEO originalmente solicitado."
   ]
  },
  {
   "attachments": {},
   "cell_type": "markdown",
   "metadata": {},
   "source": [
    "Okay, certo! Seria lindo se o mundo encontrasse esse ideal e pudéssemos seguir esses estágios um por um, em perfeita ordem, como todos os velhos livros didáticos nos diziam. Como de costume, o mundo real é muito mais obscuro. Por mais que tentemos separar esses estágios, sempre encontraremos coisas que precisam de uma análise mais aprofundada enquanto estamos projetando. Quando estamos programando, encontramos características que precisam ser esclarecidas no projeto."
   ]
  },
  {
   "attachments": {},
   "cell_type": "markdown",
   "metadata": {},
   "source": [
    "A maior parte do desenvolvimento do século XXI acontece em um desenvolvimento iterativo modelo. No desenvolvimento iterativo, uma pequena parte da tarefa é modelada, projetada, e programado, então o programa é revisto e ampliado para melhorar cada recurso e incluir novos recursos em uma série de ciclos curtos de desenvolvimento."
   ]
  },
  {
   "attachments": {},
   "cell_type": "markdown",
   "metadata": {},
   "source": [
    "O restante deste livro é sobre programação orientada a objetos, mas neste capítulo, cobriremos os princípios básicos de orientação a objetos no contexto do design. Esse nos permite entender esses conceitos (bastante simples) sem ter que argumentar com sintaxe de software ou interpretadores Python."
   ]
  },
  {
   "attachments": {},
   "cell_type": "markdown",
   "metadata": {},
   "source": [
    "#### Objetos e classes"
   ]
  },
  {
   "attachments": {},
   "cell_type": "markdown",
   "metadata": {},
   "source": [
    "Assim, um objeto é uma coleção de dados com comportamentos associados. Como podemos diferenciar entre os tipos de objetos? Maçãs e laranjas são objetos, mas é comum adágio de que não podem ser comparados. Maçãs e laranjas não são modeladas com muita frequência em programação de computadores, mas vamos fingir que estamos fazendo um aplicativo de inventário para uma fazenda de frutas. Para facilitar o exemplo, podemos supor que as maçãs vão em barris e laranjas vão em cestas."
   ]
  },
  {
   "attachments": {},
   "cell_type": "markdown",
   "metadata": {},
   "source": [
    "Agora, temos quatro tipos de objetos: maçãs, laranjas, cestos e barris. Em modelagem orientada a objetos, o termo usado para tipo de objeto é classe. Assim, no técnico termos, agora temos quatro classes de objetos."
   ]
  },
  {
   "attachments": {},
   "cell_type": "markdown",
   "metadata": {},
   "source": [
    "Qual é a diferença entre um objeto e uma classe? Classes descrevem objetos. Eles são como plantas para criar um objeto. Você pode ter três laranjas em cima a mesa à sua frente. Cada laranja é um objeto distinto, mas todos os três têm a atributos e comportamentos associados a uma classe: a classe geral das laranjas."
   ]
  },
  {
   "attachments": {},
   "cell_type": "markdown",
   "metadata": {},
   "source": [
    "A relação entre as quatro classes de objetos em nosso sistema de inventário pode ser descrito usando uma Linguagem de Modelagem Unificada (invariavelmente chamada de UML, porque os acrônimos de três letras nunca saem de moda) diagrama de classes. Aqui está o nosso primeiro diagrama de classes:"
   ]
  },
  {
   "attachments": {},
   "cell_type": "markdown",
   "metadata": {},
   "source": [
    "Orange Basket\n",
    "Apple Barrel"
   ]
  },
  {
   "attachments": {},
   "cell_type": "markdown",
   "metadata": {},
   "source": [
    "Este diagrama mostra que uma Laranja está de alguma forma associada a uma Cesta e que uma maçã também está de alguma forma associada a um barril. Associação é o mais básico forma de relacionar duas classes."
   ]
  },
  {
   "attachments": {},
   "cell_type": "markdown",
   "metadata": {},
   "source": [
    "A UML é muito popular entre os gerentes e, ocasionalmente, menosprezada pelos programadores. A sintaxe de um diagrama UML geralmente é bastante óbvia; você não precisa ler um tutorial para (principalmente) entender o que está acontecendo quando você vê um. UML também é bastante fácil de desenhar e bastante intuitivo. Afinal, muita gente, ao descrever aulas e seus relacionamentos, desenharão naturalmente caixas com linhas entre elas. Tendo um padrão baseado nesses diagramas intuitivos torna mais fácil para os programadores comunicar com designers, gerentes e entre si."
   ]
  },
  {
   "attachments": {},
   "cell_type": "markdown",
   "metadata": {},
   "source": [
    "No entanto, alguns programadores acham que UML é uma perda de tempo. Citação iterativa desenvolvimento, eles irão argumentar que as especificações formais feitas em UML sofisticado diagramas serão redundantes antes de serem implementados, e isso manter esses diagramas formais apenas desperdiçará tempo e não beneficiará ninguém."
   ]
  },
  {
   "attachments": {},
   "cell_type": "markdown",
   "metadata": {},
   "source": [
    "Dependendo da estrutura corporativa envolvida, isso pode ou não ser verdade. No entanto, toda equipe de programação composta por mais de uma pessoa ocasionalmente precisa sente-se e discuta os detalhes do subsistema em que está trabalhando no momento. UML é extremamente útil nessas sessões de brainstorming para uma comunicação rápida e fácil. Mesmo aquelas organizações que zombam dos diagramas de classes formais tendem a usar alguns versão da UML em suas reuniões de projeto ou discussões em equipe."
   ]
  },
  {
   "attachments": {},
   "cell_type": "markdown",
   "metadata": {},
   "source": [
    "Além disso, a pessoa mais importante com quem você terá que se comunicar é você mesmo. Todos nós pensamos que podemos nos lembrar das decisões de design que tomamos, mas sempre será o Por que eu fiz isso? momentos escondidos em nosso futuro. Se mantivermos o pedaços de papel nos quais fizemos nossa diagramação inicial quando começamos um projeto, eventualmente encontraremos uma referência útil para eles."
   ]
  },
  {
   "attachments": {},
   "cell_type": "markdown",
   "metadata": {},
   "source": [
    "Este capítulo, no entanto, não pretende ser um tutorial em UML. Existem muitos desses disponíveis na Internet, bem como inúmeros livros disponíveis sobre o tema. UML cobre muito mais do que diagramas de classes e objetos; ele também tem uma sintaxe para casos de uso, implantação, mudanças de estado e atividades. Estaremos lidando com alguns problemas comuns sintaxe do diagrama de classes nesta discussão sobre projeto orientado a objetos. Você vai descobrir isso você pode pegar a estrutura por exemplo, e você subconscientemente escolherá o Sintaxe inspirada em UML em sua própria equipe ou em sessões de design pessoal."
   ]
  },
  {
   "attachments": {},
   "cell_type": "markdown",
   "metadata": {},
   "source": [
    "Nosso diagrama inicial, embora correto, não nos lembra que as maçãs vão em barris ou quantos barris uma única maçã pode caber. Isso apenas nos diz que as maçãs são de alguma forma associados a barris. A associação entre as classes é muitas vezes óbvia e precisa ser nenhuma explicação adicional, mas temos a opção de adicionar mais esclarecimentos conforme necessário."
   ]
  },
  {
   "attachments": {},
   "cell_type": "markdown",
   "metadata": {},
   "source": [
    "A beleza da UML é que a maioria das coisas é opcional. Precisamos apenas especificar como tanta informação em um diagrama quanto faz sentido para a situação atual. em um rápido sessão de quadro branco, podemos apenas desenhar linhas rapidamente entre as caixas. Em um formal documento, podemos entrar em mais detalhes. No caso de maçãs e barris, podemos estar bastante confiante de que a associação é, muitas maçãs vão em um barril, mas apenas para certifique-se de que ninguém confunda com, uma maçã estraga um barril, podemos melhorar o diagrama como mostrado:"
   ]
  },
  {
   "attachments": {},
   "cell_type": "markdown",
   "metadata": {},
   "source": [
    "Orange Basket\n",
    "Apple Barrel"
   ]
  },
  {
   "attachments": {},
   "cell_type": "markdown",
   "metadata": {},
   "source": [
    "Este diagrama nos diz que as laranjas vão em cestas com uma pequena seta mostrando o que vai em quê. Também nos informa o número desse objeto que pode ser usado na associação em ambos os lados do relacionamento. Uma Cesta pode conter muitas (representadas por um *) Laranja objetos. Qualquer uma laranja pode ir em exatamente uma cesta. Este número é chamado de multiplicidade do objeto. Você também pode ouvi-lo descrito como a cardinalidade. Estes são termos realmente ligeiramente distintos. A cardinalidade refere-se ao número real de itens no definido, enquanto a multiplicidade especifica quão pequeno ou quão grande esse número pode ser."
   ]
  },
  {
   "attachments": {},
   "cell_type": "markdown",
   "metadata": {},
   "source": [
    "Freqüentemente esqueço de que lado de um relacionamento a multiplicidade continua. O multiplicidade mais próxima de uma classe é o número de objetos dessa classe que podem ser associado a qualquer objeto na outra extremidade da associação. para a maçã vai em associação barril, lendo da esquerda para a direita, muitas instâncias da Apple classe (ou seja, muitos objetos da Apple) pode ir em qualquer um Barrel. Lendo da direita para esquerda, exatamente um barril pode ser associado a qualquer maçã."
   ]
  },
  {
   "attachments": {},
   "cell_type": "markdown",
   "metadata": {},
   "source": [
    "#### Especificando atributos e comportamentos"
   ]
  },
  {
   "attachments": {},
   "cell_type": "markdown",
   "metadata": {},
   "source": [
    "Agora temos uma compreensão de alguma terminologia básica de orientação a objetos. Os objetos são instâncias de classes que podem ser associadas umas às outras. Uma instância de objeto é uma objeto específico com seu próprio conjunto de dados e comportamentos; uma laranja específica na mesa à nossa frente é dito ser um exemplo da classe geral de laranjas. isso é simples chega, mas quais são esses dados e comportamentos que estão associados a cada objeto?"
   ]
  },
  {
   "attachments": {},
   "cell_type": "markdown",
   "metadata": {},
   "source": [
    "#### Dados descrevem objetos"
   ]
  },
  {
   "attachments": {},
   "cell_type": "markdown",
   "metadata": {},
   "source": [
    "Vamos começar com os dados. Os dados normalmente representam as características individuais de um determinado objeto. Uma classe pode definir conjuntos específicos de características que são compartilhadas por todos objetos dessa classe. Qualquer objeto específico pode ter valores de dados diferentes para o determinado características. Por exemplo, nossas três laranjas na mesa (se não comemos nenhuma) cada um poderia pesar uma quantidade diferente. A classe laranja poderia então ter um peso atributo. Todas as instâncias da classe laranja têm um atributo de peso, mas cada laranja tem um valor diferente para este atributo. Os atributos não precisam ser únicos; qualquer duas laranjas podem pesar a mesma quantidade. Como um exemplo mais realista, dois objetos representando diferentes clientes podem ter o mesmo valor para um atributo de nome."
   ]
  },
  {
   "attachments": {},
   "cell_type": "markdown",
   "metadata": {},
   "source": [
    "Os atributos são frequentemente referidos como membros ou propriedades. Alguns autores sugerem que os termos têm significados diferentes, geralmente que os atributos são configuráveis, enquanto as propriedades são somente leitura. Em Python, o conceito de \"somente leitura\" é bastante sem sentido, portanto, ao longo deste livro, veremos os dois termos usados de forma intercambiável. Em Além disso, como discutiremos no Capítulo 5, Quando usar a programação orientada a objetos, o A palavra-chave de propriedade tem um significado especial em Python para um determinado tipo de atributo."
   ]
  },
  {
   "attachments": {},
   "cell_type": "markdown",
   "metadata": {},
   "source": [
    "+Weight\n",
    "+Orchard\n",
    "+Date_Picked\n",
    "Orange\n",
    "+location\n",
    "Basket\n",
    "+Color\n",
    "+Weight\n",
    "Apple\n",
    "+size"
   ]
  },
  {
   "attachments": {},
   "cell_type": "markdown",
   "metadata": {},
   "source": [
    "Em nosso aplicativo de inventário de frutas, o fruticultor pode querer saber qual pomar de onde veio a laranja, quando foi colhida e quanto pesa. Eles podem também deseja manter o controle de onde cada cesta é armazenada. Maçãs podem ter uma cor atributo, e os barris podem vir em tamanhos diferentes. Algumas dessas propriedades podem também pertencem a várias classes (podemos querer saber quando as maçãs são colhidas também), mas para este primeiro exemplo, vamos apenas adicionar alguns atributos diferentes ao nosso diagrama de classes:"
   ]
  },
  {
   "attachments": {},
   "cell_type": "markdown",
   "metadata": {},
   "source": [
    "Orange\n",
    "Basket\n",
    "Apple Barrel\n",
    "go in\u001f\n",
    "* go in\u001f\n",
    "1\n",
    "* 1\n",
    "+Color: string\n",
    "+Weight: float\n",
    "+barrel: Barrel\n",
    "+size: int\n",
    "+apples: list"
   ]
  },
  {
   "attachments": {},
   "cell_type": "markdown",
   "metadata": {},
   "source": [
    "Dependendo de quão detalhado nosso projeto precisa ser, também podemos especificar o tipo para cada atributo. Tipos de atributo são frequentemente primitivos que são padrão para a maioria linguagens de programação, como inteiro, número de ponto flutuante, string, byte ou Boleano. No entanto, eles também podem representar estruturas de dados como listas, árvores ou grafos, ou mais notavelmente, outras classes. Esta é uma área em que o estágio de design pode sobrepõe-se à fase de programação. As várias primitivas ou objetos disponíveis em uma linguagem de programação pode ser um pouco diferente do que está disponível em outras línguas."
   ]
  },
  {
   "attachments": {},
   "cell_type": "markdown",
   "metadata": {},
   "source": [
    "Normalmente, não precisamos nos preocupar muito com os tipos de dados no estágio de design, pois os detalhes específicos da implementação são escolhidos durante a fase de programação. Genérico os nomes são normalmente suficientes para o design. Se nosso projeto exigir um tipo de contêiner de lista, os programadores Java podem optar por usar um LinkedList ou um ArrayList quando implementá-lo, enquanto os programadores Python (somos nós!) list embutido e uma tupla."
   ]
  },
  {
   "attachments": {},
   "cell_type": "markdown",
   "metadata": {},
   "source": [
    "Em nosso exemplo de cultivo de frutas até agora, nossos atributos são todos primitivos básicos. No entanto, existem alguns atributos implícitos que podemos tornar explícitos - as associações. Para uma determinada laranja, podemos ter um atributo contendo a cesta que contém aquela laranja"
   ]
  },
  {
   "attachments": {},
   "cell_type": "markdown",
   "metadata": {},
   "source": [
    "#### Comportamentos são ações"
   ]
  },
  {
   "attachments": {},
   "cell_type": "markdown",
   "metadata": {},
   "source": [
    "Agora, sabemos o que são dados, mas o que são comportamentos? Comportamentos são ações que pode ocorrer em um objeto. Os comportamentos que podem ser executados em uma classe específica de objetos são chamados de métodos. No nível de programação, os métodos são como funções em programação estruturada, mas eles magicamente têm acesso a todos os dados associados este objeto. Assim como as funções, os métodos também podem aceitar parâmetros e retornar valores."
   ]
  },
  {
   "attachments": {},
   "cell_type": "markdown",
   "metadata": {},
   "source": [
    "Parâmetros para um método são uma lista de objetos que precisam ser passados para o método que está sendo chamado (os objetos que são passados do objeto de chamada são geralmente chamados de argumentos). Esses objetos são usados pelo método para executar qualquer comportamento ou tarefa a que se destina. Os valores retornados são os resultados dessa tarefa."
   ]
  },
  {
   "attachments": {},
   "cell_type": "markdown",
   "metadata": {},
   "source": [
    "Esticamos nosso exemplo de \"comparação de maçãs e laranjas\" em um exemplo básico (embora forçado) aplicação de inventário. Vamos esticá-lo um pouco mais e ver se ele quebra. Uma ação que pode ser associada às laranjas é a ação de escolher. Se você pensar sobre implementação, pick colocaria a laranja em uma cesta atualizando a cesta atributo da laranja e adicionando a laranja à lista de laranjas na cesta. Assim, o pick precisa saber com qual cesta está lidando. Fazemos isso dando a escolha método um parâmetro de cesta. Como nosso fruticultor também vende suco, podemos adicionar um squeeze método para Orange. Quando espremido, espremer pode retornar a quantidade de suco recuperado, enquanto também retirava a laranja da cesta em que estava."
   ]
  },
  {
   "attachments": {},
   "cell_type": "markdown",
   "metadata": {},
   "source": [
    "A cesta pode ter uma ação de venda. Quando uma cesta é vendida, nosso sistema de inventário pode atualizar alguns dados em objetos ainda não especificados para contabilidade e lucro cálculos. Alternativamente, nossa cesta de laranjas pode estragar antes que possamos vender eles, então adicionamos um método de descarte. Vamos adicionar esses métodos ao nosso diagrama:"
   ]
  },
  {
   "attachments": {},
   "cell_type": "markdown",
   "metadata": {},
   "source": [
    "Orange\n",
    "Basket\n",
    "* go in\u001f\n",
    "1\n",
    "+location: string\n",
    "+oranges: list\n",
    "+Weight: float\n",
    "+Orchard: string\n",
    "+Date_Picked: date\n",
    "+basket: Basket\n",
    "+pick(basket:Basket)\n",
    "+squeeze(): amount_of_juice\n",
    "+sell(customer:Customer)\n",
    "+discard()"
   ]
  },
  {
   "attachments": {},
   "cell_type": "markdown",
   "metadata": {},
   "source": [
    "Adicionar modelos e métodos a objetos individuais nos permite criar um sistema de objetos interagindo. Cada objeto no sistema é um membro de uma determinada classe. Esses classes especificam quais tipos de dados o objeto pode conter e quais métodos podem ser nele invocado. Os dados em cada objeto podem estar em um estado diferente de outros objetos da mesma classe, e cada objeto pode reagir a chamadas de método de forma diferente por causa as diferenças de estado."
   ]
  },
  {
   "attachments": {},
   "cell_type": "markdown",
   "metadata": {},
   "source": [
    "A análise e o design orientados a objetos tratam de descobrir o que esses objetos são e como eles devem interagir. A próxima seção descreve os princípios que podem ser usados para tornar essas interações o mais simples e intuitivas possível."
   ]
  },
  {
   "attachments": {},
   "cell_type": "markdown",
   "metadata": {},
   "source": [
    "#### Ocultar detalhes e criar o interface pública"
   ]
  },
  {
   "attachments": {},
   "cell_type": "markdown",
   "metadata": {},
   "source": [
    "O principal objetivo da modelagem de um objeto no projeto orientado a objetos é determinar o que a interface pública desse objeto será. A interface é a coleção de atributos e métodos que outros objetos podem usar para interagir com aquele objeto. Eles não precisam, e geralmente não têm permissão para acessar o funcionamento interno do objeto. Um comum exemplo do mundo real é a televisão. Nossa interface com a televisão é o controle remoto ao controle. Cada botão do controle remoto representa um método que pode ser chamado o objeto televisivo. Quando nós, como objeto chamador, acessamos esses métodos, não sabe ou se importa se a televisão está recebendo o sinal de uma antena, uma conexão de cabo, ou uma antena parabólica. Não nos importamos com quais sinais eletrônicos estão sendo enviados para ajustar o volume ou se o som é destinado a alto-falantes ou fones de ouvido. Se abrirmos o televisão para acessar o funcionamento interno, por exemplo, para dividir o sinal de saída para alto-falantes externos e um conjunto de fones de ouvido, anularemos a garantia."
   ]
  },
  {
   "attachments": {},
   "cell_type": "markdown",
   "metadata": {},
   "source": [
    "Este processo de esconder a implementação, ou detalhes funcionais, de um objeto é apropriadamente chamado de ocultação de informações. Às vezes também é referido como encapsulamento, mas encapsulamento é, na verdade, um termo mais abrangente. Os dados encapsulados são não necessariamente oculto. Encapsulamento é, literalmente, criar uma cápsula e então pense de criar uma cápsula do tempo. Se você colocar um monte de informações em uma cápsula do tempo, bloqueá-lo e enterrá-lo, ele é encapsulado e as informações ocultas. No outro mão, se a cápsula do tempo não foi enterrada e está destrancada ou feita de plástico, os itens dentro dele ainda estão encapsulados, mas não há ocultação de informações."
   ]
  },
  {
   "attachments": {},
   "cell_type": "markdown",
   "metadata": {},
   "source": [
    "A distinção entre encapsulamento e ocultação de informações é amplamente irrelevante, especialmente no nível do design. Muitas referências práticas usam esses termos intercambiavelmente. Como programadores Python, na verdade não temos ou precisamos de ocultação de informações (discutiremos as razões para isso no Capítulo 2, Objetos em Python), portanto, a definição mais abrangente para encapsulamento é adequada."
   ]
  },
  {
   "attachments": {},
   "cell_type": "markdown",
   "metadata": {},
   "source": [
    "A interface pública, no entanto, é muito importante. Ele precisa ser cuidadosamente projetado pois é difícil mudá-lo no futuro. Mudar a interface vai quebrar qualquer cliente objetos que o estão chamando. Podemos mudar os internos como quisermos, por exemplo, para torná-lo mais eficiente, ou para acessar dados pela rede, bem como localmente, e o os objetos do cliente ainda poderão se comunicar com ele, sem modificações, usando a interface pública. Por outro lado, se mudarmos a interface alterando nomes de atributos que são acessado publicamente ou alterando a ordem ou os tipos de argumentos que um método pode aceitar, todos os objetos do cliente também terão que ser modificados. Ainda sobre o tema público interfaces, mantenha-o simples. Sempre projete a interface de um objeto com base na facilidade é usar, não o quão difícil é codificar (esse conselho também se aplica a interfaces de usuário)."
   ]
  },
  {
   "attachments": {},
   "cell_type": "markdown",
   "metadata": {},
   "source": [
    "Lembre-se, os objetos do programa podem representar objetos reais, mas isso não os torna eles objetos reais. Eles são modelos. Um dos maiores dons da modelagem é a capacidade de ignorar detalhes irrelevantes. O modelo de carro que construí quando criança pode parecer um real 1956 Thunderbird do lado de fora, mas não funciona e o eixo de transmissão não vez. Esses detalhes eram excessivamente complexos e irrelevantes antes de eu começar a dirigir. O modelo é uma abstração de um conceito real."
   ]
  },
  {
   "attachments": {},
   "cell_type": "markdown",
   "metadata": {},
   "source": [
    "Abstração é outro conceito orientado a objetos relacionado ao encapsulamento e ocultação de informações. Simplificando, abstração significa lidar com o nível de detalhe que é mais adequado para uma determinada tarefa. É o processo de extração de um público interface dos detalhes internos. O motorista de um carro precisa interagir com a direção, pedal do acelerador e freios. O funcionamento do motor, trem de força e subsistema de freio não importa para o motorista. Um mecânico, por outro lado, trabalha em um nível diferente de abstração, afinando o motor e sangrando os freios. Aqui está um exemplo de dois níveis de abstração para um carro:"
   ]
  },
  {
   "attachments": {},
   "cell_type": "markdown",
   "metadata": {},
   "source": [
    "+disc_brakes\n",
    "+fuel_injected_engine\n",
    "+automatic_transmission\n",
    "+adjust_brake()\n",
    "+change_oil()\n",
    "Car\n",
    "Car\n",
    "+steer()\n",
    "+change_gears()\n",
    "+apply_brake()\n",
    "+brakes\n",
    "+gas_pedal"
   ]
  },
  {
   "attachments": {},
   "cell_type": "markdown",
   "metadata": {},
   "source": [
    "Agora, temos vários novos termos que se referem a conceitos semelhantes. condensando tudo este jargão em algumas frases: abstração é o processo de encapsular informações com interfaces públicas e privadas separadas. As interfaces privadas podem estar sujeito à ocultação de informações."
   ]
  },
  {
   "attachments": {},
   "cell_type": "markdown",
   "metadata": {},
   "source": [
    "A lição importante a ser tirada de todas essas definições é tornar nossos modelos compreensíveis para outros objetos que têm de interagir com eles. Isso significa pagar atenção cuidadosa aos pequenos detalhes. Certifique-se de que métodos e propriedades tenham nomes sensatos. Ao analisar um sistema, os objetos normalmente representam substantivos no problema original, enquanto os métodos são normalmente verbos. Os atributos muitas vezes podem ser escolhidos como adjetivos, embora se o atributo se referir a outro objeto que faz parte do objeto atual, ele provavelmente ainda será um substantivo. Nomeie classes, atributos e métodos de acordo."
   ]
  },
  {
   "attachments": {},
   "cell_type": "markdown",
   "metadata": {},
   "source": [
    "Não tente modelar objetos ou ações que possam ser úteis no futuro. Modelo exatamente aquelas tarefas que o sistema precisa executar, e o design gravitará naturalmente para aquele que tem um nível de abstração adequado. Isso não quer dizer que nós não deve pensar em possíveis modificações de projeto futuras. Nossos desenhos devem ser aberto para que os requisitos futuros possam ser satisfeitos. No entanto, ao abstrair interfaces, tente modelar exatamente o que precisa ser modelado e nada mais."
   ]
  },
  {
   "attachments": {},
   "cell_type": "markdown",
   "metadata": {},
   "source": [
    "Ao projetar a interface, tente se colocar no lugar do objeto e imagine que o objeto tem uma forte preferência por privacidade. Não permita que outros objetos tenham acesso a dados sobre você, a menos que você sinta que é de seu interesse tê-los. Não dê a eles uma interface para forçá-lo a executar uma tarefa específica, a menos que você tenha certeza você quer que eles sejam capazes de fazer isso com você."
   ]
  },
  {
   "attachments": {},
   "cell_type": "markdown",
   "metadata": {},
   "source": [
    "#### Composição"
   ]
  },
  {
   "attachments": {},
   "cell_type": "markdown",
   "metadata": {},
   "source": [
    "Até agora, aprendemos a projetar sistemas como um grupo de objetos interativos, onde cada um a interação envolve a visualização de objetos em um nível apropriado de abstração. Mas nós ainda não sei como criar esses níveis de abstração. Há uma variedade de maneiras para fazer isso; discutiremos alguns padrões de projeto avançados no Capítulo 8, Strings e Serialização e Capítulo 9, O Padrão Iterator. Mas mesmo a maioria dos padrões de projeto depende em dois princípios básicos orientados a objetos conhecidos como composição e herança. A composição é mais simples, então vamos começar com ela."
   ]
  },
  {
   "attachments": {},
   "cell_type": "markdown",
   "metadata": {},
   "source": [
    "Composição é o ato de reunir vários objetos para criar um novo. A composição geralmente é uma boa escolha quando um objeto faz parte de outro objeto. Já vimos um primeiro indício de composição no exemplo mecânico. um carro é composto por motor, transmissão, motor de partida, faróis e para-brisa, entre inúmeras outras peças. O motor, por sua vez, é composto por pistões, virabrequim e válvulas. Neste exemplo, a composição é uma boa maneira de fornecer níveis de abstração. O objeto carro pode fornecer a interface exigida por um motorista, ao mesmo tempo em que fornece acesso às suas partes componentes, que oferece o nível mais profundo de abstração adequado para mecânico. Essas partes componentes podem, é claro, ser ainda mais decompostas se o mecânico precisa de mais informações para diagnosticar um problema ou ajustar o motor."
   ]
  },
  {
   "attachments": {},
   "cell_type": "markdown",
   "metadata": {},
   "source": [
    "Este é um exemplo introdutório comum de composição, mas não é muito útil quando se trata de projetar sistemas de computador. Objetos físicos são fáceis de quebrar em objetos componentes. As pessoas têm feito isso pelo menos desde os antigos gregos postulou originalmente que os átomos eram as menores unidades de matéria (eles, é claro, não tinha acesso a aceleradores de partículas). Sistemas de computador são geralmente menos complicado do que objetos físicos, mas identificando os objetos componentes em tal sistemas não acontece tão naturalmente."
   ]
  },
  {
   "attachments": {},
   "cell_type": "markdown",
   "metadata": {},
   "source": [
    "Os objetos em um sistema orientado a objetos ocasionalmente representam objetos físicos como como pessoas, livros ou telefones. Mais frequentemente, no entanto, eles representam ideias abstratas. As pessoas têm nomes, os livros têm títulos e os telefones são usados para fazer ligações. chamadas, títulos, contas, nomes, compromissos e pagamentos geralmente não são considerados objetos no mundo físico, mas todos são componentes frequentemente modelados em sistemas de computador"
   ]
  },
  {
   "attachments": {},
   "cell_type": "markdown",
   "metadata": {},
   "source": [
    "Vamos tentar modelar um exemplo mais orientado a computador para ver a composição em Ação. Estaremos olhando para o projeto de um jogo de xadrez computadorizado. Este foi um passatempo muito popular entre os acadêmicos nos anos 80 e 90. As pessoas estavam prevendo que os computadores um dia seriam capazes de derrotar um mestre de xadrez humano. Quando isso aconteceu em 1997 (o Deep Blue da IBM derrotou o campeão mundial de xadrez, Gary Kasparov), o interesse pelo problema diminuiu, embora ainda haja disputas entre jogadores de xadrez humanos e de computador. (Os computadores geralmente ganham.)"
   ]
  },
  {
   "attachments": {},
   "cell_type": "markdown",
   "metadata": {},
   "source": [
    "Como uma análise básica de alto nível, uma partida de xadrez é jogada entre dois jogadores, usando um jogo de xadrez com um tabuleiro contendo sessenta e quatro posições em uma grade de 8 X 8. O tabuleiro pode ter dois conjuntos de dezesseis peças que podem ser movidas, alternadamente. turnos pelos dois jogadores de maneiras diferentes. Cada peça pode levar outras peças. O placa será obrigado a desenhar-se na tela do computador após cada turno."
   ]
  },
  {
   "attachments": {},
   "cell_type": "markdown",
   "metadata": {},
   "source": [
    "Identifiquei alguns dos objetos possíveis na descrição usando itálico e alguns métodos-chave usando negrito. Este é um primeiro passo comum para transformar um software orientado a objetos análise em um projeto. Neste ponto, para enfatizar a composição, vamos nos concentrar no tabuleiro, sem se preocupar muito com os jogadores ou com os diferentes tipos de peças."
   ]
  },
  {
   "attachments": {},
   "cell_type": "markdown",
   "metadata": {},
   "source": [
    "Vamos começar no nível mais alto de abstração possível. Temos dois jogadores interagindo com um jogo de xadrez, revezando-se para fazer movimentos:"
   ]
  },
  {
   "attachments": {},
   "cell_type": "markdown",
   "metadata": {},
   "source": [
    "make_move\n",
    "make_move"
   ]
  },
  {
   "attachments": {},
   "cell_type": "markdown",
   "metadata": {},
   "source": [
    "O que é isso? Não se parece muito com nossos diagramas de classe anteriores. Isso porque não é um diagrama de classe! Este é um diagrama de objeto, também chamado de diagrama de instância. Isto descreve o sistema em um estado específico no tempo e está descrevendo instâncias específicas de objetos, não a interação entre classes. Lembre-se, ambos os jogadores são membros da mesma classe, então o diagrama de classes parece um pouco diferente:"
   ]
  },
  {
   "attachments": {},
   "cell_type": "markdown",
   "metadata": {},
   "source": [
    "Make Move\u001f\n",
    "Player Chess Set\n",
    "2"
   ]
  },
  {
   "attachments": {},
   "cell_type": "markdown",
   "metadata": {},
   "source": [
    "O diagrama mostra que exatamente dois jogadores podem interagir com um jogo de xadrez. Isso também indica que qualquer jogador pode jogar com apenas um conjunto de xadrez por vez."
   ]
  },
  {
   "attachments": {},
   "cell_type": "markdown",
   "metadata": {},
   "source": [
    "No entanto, estamos discutindo composição, não UML, então vamos pensar sobre o que o Chess Set é composto por. Não nos importamos com o que o jogador é composto neste momento. Podemos supor que o jogador tenha coração e cérebro, entre outros órgãos, mas esses são irrelevantes para o nosso modelo. De fato, nada impede que o dito jogador seja O próprio Deep Blue, que não tem coração nem cérebro."
   ]
  },
  {
   "attachments": {},
   "cell_type": "markdown",
   "metadata": {},
   "source": [
    "O jogo de xadrez, então, é composto por um tabuleiro e 32 peças. A placa ainda compreende 64 posições. Você poderia argumentar que as peças não fazem parte do jogo de xadrez porque você pode substituir as peças de um jogo de xadrez por um conjunto diferente de peças. Embora isso seja improvável ou impossível em uma versão computadorizada do xadrez, ele apresenta nós à agregação."
   ]
  },
  {
   "attachments": {},
   "cell_type": "markdown",
   "metadata": {},
   "source": [
    "A agregação é quase exatamente como a composição. A diferença é que agregado os objetos podem existir independentemente. Seria impossível que um cargo fosse associado com um tabuleiro de xadrez diferente, então dizemos que o tabuleiro é composto de posições. Mas o peças, que podem existir independentemente do jogo de xadrez, são ditas em um agregado relacionamento com esse conjunto."
   ]
  },
  {
   "attachments": {},
   "cell_type": "markdown",
   "metadata": {},
   "source": [
    "Outra maneira de diferenciar entre agregação e composição é pensar sobre a vida útil do objeto. Se o objeto composto (externo) controlar quando o objeto relacionado (dentro) os objetos são criados e destruídos, a composição é mais adequada. Se o relacionado objeto é criado independentemente do objeto composto, ou pode durar mais que esse objeto, um relacionamento agregado faz mais sentido. Além disso, tenha em mente que a composição é agregação; a agregação é simplesmente uma forma mais geral de composição. Qualquer relacionamento composto também é um relacionamento agregado, mas não vice-versa."
   ]
  },
  {
   "attachments": {},
   "cell_type": "markdown",
   "metadata": {},
   "source": [
    "Vamos descrever a composição do nosso jogo de xadrez atual e adicionar alguns atributos ao objetos para manter os relacionamentos compostos:"
   ]
  },
  {
   "attachments": {},
   "cell_type": "markdown",
   "metadata": {},
   "source": [
    "Player\n",
    "Position\n",
    "Piece\n",
    "Chess Set\n",
    "Board\n",
    "+chess_board: Board\n",
    "+pieces: list\n",
    "+board: Board"
   ]
  },
  {
   "attachments": {},
   "cell_type": "markdown",
   "metadata": {},
   "source": [
    "A relação de composição é representada em UML como um losango sólido. A cavidade diamante representa o relacionamento agregado. Você notará que a placa e as peças são armazenadas como parte do jogo de xadrez exatamente da mesma maneira que uma referência a elas é armazenado como um atributo no jogo de xadrez. Isso mostra que, mais uma vez, na prática, a distinção entre agregação e composição é muitas vezes irrelevante uma vez que você passar da fase de projeto. Quando implementados, eles se comportam da mesma maneira. No entanto, pode ajudar a diferenciar entre os dois quando sua equipe está discutindo como os diferentes objetos interagem. Muitas vezes, você pode tratá-los como a mesma coisa, mas quando você precisa distingui-los, é ótimo saber a diferença (isso é a abstração no trabalho)."
   ]
  },
  {
   "attachments": {},
   "cell_type": "markdown",
   "metadata": {},
   "source": [
    "#### Herança"
   ]
  },
  {
   "attachments": {},
   "cell_type": "markdown",
   "metadata": {},
   "source": [
    "Discutimos três tipos de relacionamentos entre objetos: associação, composição,\n",
    "e agregação. No entanto, não especificamos totalmente nosso jogo de xadrez e essas ferramentas\n",
    "não parecem nos dar todo o poder de que precisamos. Discutimos a possibilidade de um jogador\n",
    "pode ser um ser humano ou pode ser um software com inteligência artificial. Isto\n",
    "não parece certo dizer que um jogador está associado a um humano, ou que o artificial\n",
    "a implementação da inteligência faz parte do objeto do jogador. O que realmente precisamos é o\n",
    "capacidade de dizer que \"Deep Blue é um jogador\" ou que \"Gary Kasparov é um jogador\"."
   ]
  },
  {
   "attachments": {},
   "cell_type": "markdown",
   "metadata": {},
   "source": [
    "O é um relacionamento é formado por herança. A herança é o mais famoso, bem conhecido,\n",
    "e relacionamento superutilizado na programação orientada a objetos. A herança é ordenada\n",
    "como uma árvore genealógica. O sobrenome do meu avô era Phillips e meu pai herdou\n",
    "aquele nome. Eu herdei isso dele (junto com olhos azuis e uma queda pela escrita).\n",
    "Na programação orientada a objetos, em vez de herdar recursos e comportamentos de um\n",
    "pessoa, uma classe pode herdar atributos e métodos de outra classe."
   ]
  },
  {
   "attachments": {},
   "cell_type": "markdown",
   "metadata": {},
   "source": [
    "Por exemplo, existem 32 peças de xadrez em nosso jogo de xadrez, mas existem apenas seis diferentes\n",
    "tipos de peças (peões, torres, bispos, cavalos, rei e rainha), cada uma das quais\n",
    "se comporta de maneira diferente quando é movido. Todas essas classes de peça têm propriedades,\n",
    "como a cor e o jogo de xadrez de que fazem parte, mas também têm formas únicas\n",
    "quando desenhadas no tabuleiro de xadrez, e fazer movimentos diferentes. Vamos ver como os seis\n",
    "tipos de peças podem herdar de uma classe Peça:"
   ]
  },
  {
   "attachments": {},
   "cell_type": "markdown",
   "metadata": {},
   "source": [
    ": ChessSet\n",
    "+color\n",
    "+shape\n",
    "+move(board)\n",
    "+move(board)\n",
    "+move(board) +move(board)\n",
    "+move(board)\n",
    "+move(board)\n",
    "+shape\n",
    "+shape +shape\n",
    "+shape\n",
    "+shape"
   ]
  },
  {
   "attachments": {},
   "cell_type": "markdown",
   "metadata": {},
   "source": [
    "As setas vazias indicam que as classes individuais de peças herdam da Peça\n",
    "aula. Todos os subtipos têm automaticamente um atributo chess_set e color herdado\n",
    "da classe base. Cada peça fornece uma propriedade de forma diferente (a ser desenhada no\n",
    "tela ao renderizar o tabuleiro) e um método de movimento diferente para mover a peça para um\n",
    "nova posição no tabuleiro a cada jogada."
   ]
  },
  {
   "attachments": {},
   "cell_type": "markdown",
   "metadata": {},
   "source": [
    "Na verdade, sabemos que todas as subclasses da classe Piece precisam ter um método move;\n",
    "caso contrário, quando o tabuleiro tentar mover a peça, ficará confuso. É possível\n",
    "que gostaríamos de criar uma nova versão do jogo de xadrez que tivesse um\n",
    "peça adicional (o mago). Nosso design atual nos permite projetar esta peça\n",
    "sem dar a ele um método de movimento. O conselho então engasgava quando perguntava ao\n",
    "peça para mover-se."
   ]
  },
  {
   "attachments": {},
   "cell_type": "markdown",
   "metadata": {},
   "source": [
    "Podemos implementar isso criando um método de movimento fictício na classe Piece. O\n",
    "as subclasses podem substituir esse método por uma implementação mais específica. O\n",
    "implementação padrão pode, por exemplo, exibir uma mensagem de erro que diz: Isso\n",
    "peça não pode ser movida."
   ]
  },
  {
   "attachments": {},
   "cell_type": "markdown",
   "metadata": {},
   "source": [
    "Sobrescrever métodos em subtipos permite que sistemas orientados a objetos muito poderosos\n",
    "Ser desenvolvido. Por exemplo, se quiséssemos implementar uma classe de jogador com\n",
    "inteligência, podemos fornecer um método calculate_move que leva um objeto Board\n",
    "e decide qual peça mover para onde. Uma classe muito básica pode escolher aleatoriamente\n",
    "uma peça e direção e mova-a de acordo. Poderíamos então sobrescrever este método\n",
    "em uma subclasse com a implementação do Deep Blue. A primeira classe seria adequada\n",
    "para jogar contra um iniciante, este último desafiaria um grande mestre. O\n",
    "importante é que outros métodos da classe, como os que informam o\n",
    "o tabuleiro sobre qual movimento foi escolhido não precisa ser alterado; esta implementação pode\n",
    "ser compartilhado entre as duas classes."
   ]
  },
  {
   "attachments": {},
   "cell_type": "markdown",
   "metadata": {},
   "source": [
    "No caso de peças de xadrez, não faz sentido fornecer um padrão\n",
    "implementação do método move. Tudo o que precisamos fazer é especificar que o movimento\n",
    "O método é necessário em todas as subclasses. Isso pode ser feito tornando Piece um abstrato\n",
    "classe com o método move declarado abstrato. Os métodos abstratos basicamente dizem: \"Nós\n",
    "exigem que esse método exista em qualquer subclasse não abstrata, mas estamos nos recusando a\n",
    "especificar uma implementação nesta classe.\""
   ]
  },
  {
   "attachments": {},
   "cell_type": "markdown",
   "metadata": {},
   "source": [
    "De fato, é possível criar uma classe que não implemente nenhum método. Tal\n",
    "uma classe simplesmente nos diria o que a classe deve fazer, mas não fornece absolutamente nenhum\n",
    "conselhos sobre como fazê-lo. Na linguagem orientada a objetos, essas classes são chamadas de interfaces."
   ]
  },
  {
   "attachments": {},
   "cell_type": "markdown",
   "metadata": {},
   "source": [
    "#### Herança fornece abstração"
   ]
  },
  {
   "attachments": {},
   "cell_type": "markdown",
   "metadata": {},
   "source": [
    "Vamos explorar a palavra mais longa no jargão orientado a objetos. Polimorfismo é a capacidade de\n",
    "tratar uma classe de forma diferente, dependendo de qual subclasse é implementada. nós já\n",
    "vimos em ação com o sistema de peças que descrevemos. Se pegássemos um pouco no design\n",
    "Além disso, provavelmente veríamos que o objeto Tabuleiro pode aceitar uma jogada do jogador e\n",
    "chame a função de movimento na peça. O tabuleiro nunca precisa saber que tipo de peça\n",
    "está tratando. Tudo o que ele precisa fazer é chamar o método move e a subclasse adequada será\n",
    "cuide de movê-lo como um Cavalo ou um Peão."
   ]
  },
  {
   "attachments": {},
   "cell_type": "markdown",
   "metadata": {},
   "source": [
    "Polimorfismo é bem legal, mas é uma palavra que raramente é usada em Python\n",
    "programação. Python vai além de permitir que uma subclasse de um objeto seja\n",
    "tratado como uma classe pai. Uma placa implementada em Python poderia receber qualquer objeto que\n",
    "tem um método de movimento, seja uma peça de bispo, um carro ou um pato. Quando o movimento é chamado,\n",
    "o Bispo se moverá diagonalmente no tabuleiro, o carro irá para algum lugar e o\n",
    "pato vai nadar ou voar, dependendo do seu humor."
   ]
  },
  {
   "attachments": {},
   "cell_type": "markdown",
   "metadata": {},
   "source": [
    "Esse tipo de polimorfismo em Python é geralmente chamado de tipagem de pato: \"Se\n",
    "anda como um pato ou nada como um pato, é um pato\". Não nos importamos se é realmente um pato\n",
    "(herança), apenas que nada ou caminha. Gansos e cisnes podem facilmente ser capazes de\n",
    "fornecem o comportamento de pato que estamos procurando. Isso permite que futuros designers\n",
    "criar novos tipos de pássaros sem realmente especificar uma hierarquia de herança para\n",
    "aves aquáticas. Ele também permite que eles criem comportamentos de entrada completamente diferentes que\n",
    "os designers originais nunca planejaram. Por exemplo, futuros designers podem ser capazes de\n",
    "fazer um pinguim andando e nadando que funciona com a mesma interface sem\n",
    "sempre sugerindo que os pinguins são patos."
   ]
  },
  {
   "attachments": {},
   "cell_type": "markdown",
   "metadata": {},
   "source": [
    "#### Herança múltipla"
   ]
  },
  {
   "attachments": {},
   "cell_type": "markdown",
   "metadata": {},
   "source": [
    "Quando pensamos em herança em nossa própria árvore genealógica, podemos ver que herdamos\n",
    "características de mais do que apenas um dos pais. Quando estranhos dizem a uma mãe orgulhosa que ela\n",
    "filho tem, \"os olhos de seu pai\", ela normalmente responderá na linha de \"sim, mas ele\n",
    "pegou meu nariz.\""
   ]
  },
  {
   "attachments": {},
   "cell_type": "markdown",
   "metadata": {},
   "source": [
    "O design orientado a objetos também pode apresentar essa herança múltipla, o que permite uma\n",
    "subclasse para herdar a funcionalidade de várias classes pai. Na prática, vários\n",
    "herança pode ser um negócio complicado, e algumas linguagens de programação (a maioria\n",
    "notavelmente, Java) o proíbem estritamente. No entanto, a herança múltipla pode ter seus usos.\n",
    "Na maioria das vezes, pode ser usado para criar objetos que possuem dois conjuntos distintos de comportamentos.\n",
    "Por exemplo, um objeto projetado para se conectar a um scanner e enviar um fax do\n",
    "documento digitalizado pode ser criado herdando de dois scanners separados e\n",
    "objetos de fax."
   ]
  },
  {
   "attachments": {},
   "cell_type": "markdown",
   "metadata": {},
   "source": [
    "Desde que duas classes tenham interfaces distintas, normalmente não é prejudicial para uma\n",
    "subclasse para herdar de ambos. No entanto, fica confuso se herdarmos de dois\n",
    "classes que fornecem interfaces sobrepostas. Por exemplo, se tivermos uma motocicleta\n",
    "classe que possui um método move, e uma classe boat também apresentando um método move,\n",
    "e queremos mesclá-los no veículo anfíbio final, como o\n",
    "classe resultante sabe o que fazer quando chamamos move? No nível do design, isso precisa\n",
    "a ser explicado, e ao nível da implementação, cada linguagem de programação tem\n",
    "maneiras diferentes de decidir qual método da classe pai é chamado ou em que ordem."
   ]
  },
  {
   "attachments": {},
   "cell_type": "markdown",
   "metadata": {},
   "source": [
    "Muitas vezes, a melhor maneira de lidar com isso é evitá-lo. Se você tem um design aparecendo como\n",
    "isso, você provavelmente está fazendo errado. Dê um passo para trás, analise o sistema novamente e\n",
    "veja se você pode remover o relacionamento de herança múltipla em favor de algum outro\n",
    "associação ou projeto composto."
   ]
  },
  {
   "attachments": {},
   "cell_type": "markdown",
   "metadata": {},
   "source": [
    "A herança é uma ferramenta muito poderosa para estender o comportamento. É também um dos mais\n",
    "avanços comercializáveis do design orientado a objetos em relação aos paradigmas anteriores. Portanto,\n",
    "geralmente é a primeira ferramenta que os programadores orientados a objetos procuram. no entanto\n",
    "é importante reconhecer que possuir um martelo não transforma parafusos em pregos.\n",
    "A herança é a solução perfeita para relacionamentos óbvios, mas pode ser abusada.\n",
    "Os programadores costumam usar herança para compartilhar código entre dois tipos de objetos que são\n",
    "apenas parentes distantes, sem nenhum relacionamento à vista. Embora isso não seja necessariamente\n",
    "um design ruim, é uma ótima oportunidade para perguntar por que eles decidiram projetar isso\n",
    "forma, e se um relacionamento diferente ou padrão de projeto teria sido mais\n",
    "adequado."
   ]
  },
  {
   "attachments": {},
   "cell_type": "markdown",
   "metadata": {},
   "source": [
    "#### Estudo de caso"
   ]
  },
  {
   "attachments": {},
   "cell_type": "markdown",
   "metadata": {},
   "source": [
    "Vamos amarrar todo o nosso novo conhecimento orientado a objetos passando por alguns\n",
    "iterações de design orientado a objetos em um exemplo do mundo real. O sistema\n",
    "que estaremos modelando é um catálogo de biblioteca. As bibliotecas têm rastreado seu inventário há\n",
    "séculos, originalmente usando catálogos de fichas e, mais recentemente, inventários eletrônicos.\n",
    "As bibliotecas modernas têm catálogos baseados na web que podemos consultar em nossas casas."
   ]
  },
  {
   "attachments": {},
   "cell_type": "markdown",
   "metadata": {},
   "source": [
    "Vamos começar com uma análise. O bibliotecário local nos pediu para escrever um novo cartão\n",
    "programa de catálogo porque seu antigo programa baseado em DOS é feio e desatualizado.\n",
    "Isso não nos dá muitos detalhes, mas antes de começarmos a pedir mais informações,\n",
    "vamos considerar o que já sabemos sobre catálogos de bibliotecas."
   ]
  },
  {
   "attachments": {},
   "cell_type": "markdown",
   "metadata": {},
   "source": [
    "Catálogos contêm listas de livros. As pessoas os procuram para encontrar livros sobre determinados assuntos,\n",
    "com títulos específicos, ou por um determinado autor. Os livros podem ser identificados exclusivamente por um\n",
    "Número de livro padrão internacional (ISBN). Cada livro tem uma Decimal de Dewey\n",
    "Número do sistema (DDS) atribuído para ajudar a localizá-lo em uma prateleira específica."
   ]
  },
  {
   "attachments": {},
   "cell_type": "markdown",
   "metadata": {},
   "source": [
    "Essa análise simples nos mostra alguns dos objetos óbvios do sistema. nós rapidamente\n",
    "identificam o Livro como o objeto mais importante, com vários atributos já\n",
    "mencionados, como autor, título, assunto, ISBN e número DDS, e catálogo como um\n",
    "espécie de gerenciador de livros."
   ]
  },
  {
   "attachments": {},
   "cell_type": "markdown",
   "metadata": {},
   "source": [
    "Também notamos alguns outros objetos que podem ou não precisar ser modelados no\n",
    "sistema. Para fins de catalogação, tudo o que precisamos para pesquisar um livro por autor é um autor_\n",
    "atributo de nome no livro. No entanto, autores também são objetos, e podemos querer\n",
    "armazenar alguns outros dados sobre o autor. Ao refletirmos sobre isso, podemos lembrar que\n",
    "alguns livros têm vários autores. De repente, a ideia de ter um único author_name\n",
    "atributo em objetos parece um pouco bobo. Uma lista de autores associados a cada livro é\n",
    "claramente uma ideia melhor."
   ]
  },
  {
   "attachments": {},
   "cell_type": "markdown",
   "metadata": {},
   "source": [
    "A relação entre autor e livro é claramente de associação, já que você\n",
    "nunca diga \"um livro é um autor\" (não é uma herança), e dizer \"um livro tem um\n",
    "autor\", embora gramaticalmente correto, não implica que os autores façam parte de livros\n",
    "(não é agregação). De fato, qualquer autor pode estar associado a vários livros."
   ]
  },
  {
   "attachments": {},
   "cell_type": "markdown",
   "metadata": {},
   "source": [
    "Devemos também prestar atenção ao substantivo (substantivos são sempre bons candidatos para\n",
    "objetos) prateleira. Uma estante é um objeto que precisa ser modelado em um sistema de catalogação?\n",
    "Como identificamos uma prateleira individual? O que acontece se um livro for armazenado no\n",
    "final de uma prateleira e, posteriormente, mudou-se para o início da próxima prateleira porque outro\n",
    "livro foi inserido na estante anterior?"
   ]
  },
  {
   "attachments": {},
   "cell_type": "markdown",
   "metadata": {},
   "source": [
    "O DDS foi projetado para ajudar a localizar livros físicos em uma biblioteca. Assim, armazenar um\n",
    "O atributo DDS com o livro deve ser suficiente para localizá-lo, independente de qual estante\n",
    "ele está armazenado. Assim, podemos, pelo menos por enquanto, remover a prateleira da nossa lista de\n",
    "objetos em disputa."
   ]
  },
  {
   "attachments": {},
   "cell_type": "markdown",
   "metadata": {},
   "source": [
    "Outro objeto questionável no sistema é o usuário. Precisamos saber alguma coisa\n",
    "sobre um usuário específico, como nome, endereço ou lista de livros vencidos? Até agora, o\n",
    "o bibliotecário nos disse apenas que eles querem um catálogo; não falaram nada sobre rastreamento\n",
    "assinaturas ou avisos de atraso. No fundo de nossas mentes, também notamos que os autores\n",
    "e os usuários são tipos específicos de pessoas; pode haver uma herança útil\n",
    "relacionamento aqui no futuro."
   ]
  },
  {
   "attachments": {},
   "cell_type": "markdown",
   "metadata": {},
   "source": [
    "Para fins de catalogação, decidimos que não precisamos identificar o usuário por enquanto. Nós\n",
    "podemos presumir que um usuário estará pesquisando o catálogo, mas não precisamos ativamente\n",
    "modelá-los no sistema, além de fornecer uma interface que permita a busca."
   ]
  },
  {
   "attachments": {},
   "cell_type": "markdown",
   "metadata": {},
   "source": [
    "Identificamos alguns atributos no livro, mas quais propriedades um catálogo\n",
    "ter? Alguma biblioteca tem mais de um catálogo? Precisamos exclusivamente\n",
    "identificá-los? Obviamente, o catálogo tem que ter uma coleção dos livros que\n",
    "contém, de alguma forma, mas esta lista provavelmente não faz parte da interface pública."
   ]
  },
  {
   "attachments": {},
   "cell_type": "markdown",
   "metadata": {},
   "source": [
    "E os comportamentos? O catálogo claramente precisa de um método de busca, possivelmente separado\n",
    "outros para autores, títulos e assuntos. Existem comportamentos nos livros? Será que\n",
    "precisa de um método de visualização? Ou a visualização pode ser identificada por um atributo de primeiras páginas\n",
    "em vez de um método?"
   ]
  },
  {
   "attachments": {},
   "cell_type": "markdown",
   "metadata": {},
   "source": [
    "As perguntas na discussão anterior são todas parte da análise orientada a objetos\n",
    "Estágio. Mas misturado com as perguntas, já identificamos algumas chaves\n",
    "objetos que fazem parte do projeto. Na verdade, o que você acabou de ver são vários\n",
    "microiterações entre análise e projeto."
   ]
  },
  {
   "attachments": {},
   "cell_type": "markdown",
   "metadata": {},
   "source": [
    "Provavelmente, todas essas iterações ocorreriam em uma reunião inicial com o bibliotecário. Antes\n",
    "desta reunião, porém, já podemos esboçar um desenho mais básico para os objetos\n",
    "identificamos concretamente:"
   ]
  },
  {
   "attachments": {},
   "cell_type": "markdown",
   "metadata": {},
   "source": [
    "+Search()\n",
    "+ISBN\n",
    "+Authors\n",
    "+Title\n",
    "+Subject\n",
    "+DDS number"
   ]
  },
  {
   "attachments": {},
   "cell_type": "markdown",
   "metadata": {},
   "source": [
    "Armado com este diagrama básico e um lápis para melhorá-lo interativamente, encontramos\n",
    "com o bibliotecário. Dizem-nos que este é um bom começo, mas as bibliotecas não servem\n",
    "apenas livros, eles também têm DVDs, revistas e CDs, nenhum dos quais com ISBN\n",
    "ou número DDS. Todos esses tipos de itens podem ser identificados exclusivamente por um UPC\n",
    "número embora. Lembramos ao bibliotecário que ele deve encontrar os itens no\n",
    "prateleira, e esses itens provavelmente não são organizados por UPC. A bibliotecária explica que\n",
    "cada tipo é organizado de uma maneira diferente. Os CDs são principalmente livros de áudio, e eles\n",
    "apenas algumas dezenas em estoque, por isso são organizadas pelo sobrenome do autor.\n",
    "Os DVDs são divididos em gênero e organizados por título. As revistas são organizadas\n",
    "por título e, em seguida, refinado pelo volume e número da edição. Os livros são, como tínhamos\n",
    "adivinhado, organizado pelo número DDS."
   ]
  },
  {
   "attachments": {},
   "cell_type": "markdown",
   "metadata": {},
   "source": [
    "Sem nenhuma experiência anterior em design orientado a objetos, podemos considerar adicionar\n",
    "separe listas de DVDs, CDs, revistas e livros em nosso catálogo e pesquise cada\n",
    "um por sua vez. O problema é que, exceto por certos atributos estendidos, e identificar o\n",
    "localização física do item, todos esses itens se comportam da mesma forma. Este é um trabalho\n",
    "por herança! Atualizamos rapidamente nosso diagrama UML:"
   ]
  },
  {
   "attachments": {},
   "cell_type": "markdown",
   "metadata": {},
   "source": [
    "LibraryItem\n",
    "Author\n",
    "Book\n",
    "+ISBN\n",
    "+Authors\n",
    "+Title\n",
    "+Subject\n",
    "+DDS number\n",
    "+Name\n",
    "Magazine\n",
    "+Volume\n",
    "+Issue\n",
    "DVD\n",
    "+Actors\n",
    "+Director\n",
    "+Genre\n",
    "CD\n",
    "+Artist\n",
    "+Search()\n",
    "+Title\n",
    "+UPC\n",
    "+Subject\n",
    "+locate()"
   ]
  },
  {
   "attachments": {},
   "cell_type": "markdown",
   "metadata": {},
   "source": [
    "O bibliotecário entende a essência do nosso diagrama esboçado, mas fica um pouco confuso com o\n",
    "localizar a funcionalidade. Explicamos usando um caso de uso específico em que o usuário está pesquisando\n",
    "para a palavra \"coelhos\". O usuário primeiro envia uma solicitação de pesquisa ao catálogo. o catálogo\n",
    "consulta sua lista interna de itens e encontra um livro e um DVD com \"coelhinhos\" no título.\n",
    "Nesse ponto, o catálogo não se importa se contém um DVD, livro, CD ou revista; todos\n",
    "os itens são os mesmos, no que diz respeito ao catálogo. No entanto, o usuário deseja saber\n",
    "como encontrar os itens físicos, então o catálogo seria negligente se simplesmente retornasse um\n",
    "lista de títulos. Assim, ele chama o método de localização nos dois itens que descobriu. Os livros\n",
    "O método de localização retorna um número DDS que pode ser usado para localizar a prateleira que contém o\n",
    "livro. O DVD é localizado retornando o gênero e o título do DVD. O usuário pode\n",
    "em seguida, visite a seção de DVD, encontre a seção que contém esse gênero e encontre o específico\n",
    "DVD classificado pelos títulos."
   ]
  },
  {
   "attachments": {},
   "cell_type": "markdown",
   "metadata": {},
   "source": [
    "Conforme explicamos, esboçamos um diagrama de sequência UML explicando como os vários\n",
    "objetos estão se comunicando:"
   ]
  },
  {
   "attachments": {},
   "cell_type": "markdown",
   "metadata": {},
   "source": [
    "Catalog Bunnies Book Bunnies DVD\n",
    "User\n",
    "Search\n",
    "Locate\n",
    "Results\n",
    "Genre, Title"
   ]
  },
  {
   "attachments": {},
   "cell_type": "markdown",
   "metadata": {},
   "source": [
    "Onde, os diagramas de classe descrevem as relações entre as classes e a sequência\n",
    "diagramas descrevem sequências específicas de mensagens passadas entre objetos. O tracejado\n",
    "linha pendurada em cada objeto é uma linha de vida que descreve o tempo de vida do objeto. O\n",
    "caixas mais largas em cada linha de vida representam processamento ativo naquele objeto (onde há\n",
    "sem caixa, o objeto está basicamente parado, esperando que algo aconteça). O\n",
    "setas horizontais entre as linhas de vida indicam mensagens específicas. As setas sólidas\n",
    "representam métodos sendo chamados, enquanto as setas tracejadas com cabeças sólidas representam\n",
    "os valores de retorno do método."
   ]
  },
  {
   "attachments": {},
   "cell_type": "markdown",
   "metadata": {},
   "source": [
    "As meias setas indicam mensagens assíncronas enviadas de ou para um objeto. Um\n",
    "mensagem assíncrona normalmente significa que o primeiro objeto chama um método no segundo\n",
    "objeto, que retorna imediatamente. Após algum processamento, o segundo objeto chama um\n",
    "no primeiro objeto para atribuir um valor a ele. Isso está em contraste com o método normal\n",
    "chamadas, que fazem o processamento no método e retornam um valor imediatamente."
   ]
  },
  {
   "attachments": {},
   "cell_type": "markdown",
   "metadata": {},
   "source": [
    "Os diagramas de sequência, como todos os diagramas UML, são melhor usados apenas quando são\n",
    "necessário. Não faz sentido desenhar um diagrama UML só para desenhar.\n",
    "um diagrama. No entanto, quando você precisa comunicar uma série de interações\n",
    "entre dois objetos, o diagrama de seqüência é uma ferramenta muito útil."
   ]
  },
  {
   "attachments": {},
   "cell_type": "markdown",
   "metadata": {},
   "source": [
    "Infelizmente, nosso diagrama de classes até agora ainda é um projeto confuso. Percebemos que os atores\n",
    "em DVDs e artistas em CDs são todos tipos de pessoas, mas estão sendo tratados de forma diferente\n",
    "dos autores do livro. A bibliotecária também lembra que a maioria de seus CDs são\n",
    "livros de áudio, que têm autores em vez de artistas."
   ]
  },
  {
   "attachments": {},
   "cell_type": "markdown",
   "metadata": {},
   "source": [
    "Como podemos lidar com diferentes tipos de pessoas que contribuem para um título? Um óbvio\n",
    "implementação é criar uma classe Person com o nome da pessoa e outros\n",
    "detalhes e, em seguida, crie subclasses disso para os artistas, autores e atores. No entanto,\n",
    "a herança é realmente necessária aqui? Para fins de pesquisa e catalogação, não\n",
    "realmente me importo que atuar e escrever sejam duas atividades muito diferentes. se estivéssemos fazendo\n",
    "uma simulação econômica, faria sentido dar aulas separadas de ator e autor,\n",
    "e diferentes métodos calculate_income e perform_job, mas para catalogação\n",
    "propósitos, provavelmente é suficiente saber como a pessoa contribuiu para o item.\n",
    "Reconhecemos que todos os itens têm um ou mais objetos Contributor, então movemos o\n",
    "relacionamento author do livro com sua classe pai:"
   ]
  },
  {
   "attachments": {},
   "cell_type": "markdown",
   "metadata": {},
   "source": [
    "+Locate()\n",
    "+Name\n",
    "+Search()\n",
    "+ISBN\n",
    "+Title\n",
    "+Subject\n",
    "+DDS number\n",
    "+Genre +Volume\n",
    "+Issue"
   ]
  },
  {
   "attachments": {},
   "cell_type": "markdown",
   "metadata": {},
   "source": [
    "A multiplicidade do relacionamento Contributor/LibraryItem é de muitos para muitos, como\n",
    "indicado pelo caractere * em ambas as extremidades de um relacionamento. Qualquer item da biblioteca\n",
    "pode ter mais de um colaborador (por exemplo, vários atores e um diretor\n",
    "em um DVD). E muitos autores escrevem muitos livros, então eles seriam apegados a\n",
    "vários itens de biblioteca."
   ]
  },
  {
   "attachments": {},
   "cell_type": "markdown",
   "metadata": {},
   "source": [
    "Essa pequena mudança, embora pareça um pouco mais limpa e simples, perdeu alguns elementos vitais\n",
    "Informação. Ainda podemos dizer quem contribuiu para um item específico da biblioteca, mas não\n",
    "saber como eles contribuíram. Eles eram o diretor ou um ator? Eles escreveram o\n",
    "livro de áudio, ou eles eram a voz que narrou o livro?"
   ]
  },
  {
   "attachments": {},
   "cell_type": "markdown",
   "metadata": {},
   "source": [
    "Seria bom se pudéssemos apenas adicionar um atributo contribuidor_type no\n",
    "Classe Contribuidor, mas isso vai desmoronar ao lidar com pessoas multitalentosas\n",
    "que escreveram livros e dirigiram filmes."
   ]
  },
  {
   "attachments": {},
   "cell_type": "markdown",
   "metadata": {},
   "source": [
    "Uma opção é adicionar atributos a cada uma de nossas subclasses LibraryItem que contêm o\n",
    "informações de que precisamos, como Autor no livro ou Artista no CD, e faça o\n",
    "todas as relações com essas propriedades apontam para a classe Contributor. o problema com\n",
    "é que perdemos muita elegância polimórfica. Se quisermos listar os contribuidores para\n",
    "um item, temos que procurar atributos específicos nesse item, como Autores ou Atores.\n",
    "Podemos aliviar isso adicionando um método GetContributors na classe LibraryItem\n",
    "que as subclasses podem substituir. Então o catálogo nunca precisa saber quais atributos o\n",
    "os objetos estão consultando; abstraímos a interface pública:"
   ]
  },
  {
   "attachments": {},
   "cell_type": "markdown",
   "metadata": {},
   "source": [
    "LibraryItem\n",
    "+Search()\n",
    "+ISBN\n",
    "+Title\n",
    "+Subject\n",
    "+DDS number\n",
    "+Authors\n",
    "+Locate()"
   ]
  },
  {
   "attachments": {},
   "cell_type": "markdown",
   "metadata": {},
   "source": [
    "Apenas olhando para este diagrama de classes, parece que estamos fazendo algo errado. Isso é\n",
    "volumoso e frágil. Pode fazer tudo o que precisamos, mas parece que será difícil\n",
    "manter ou estender. Há muitos relacionamentos e muitas classes\n",
    "ser afetado por modificações em qualquer classe. Parece espaguete com almôndegas."
   ]
  },
  {
   "attachments": {},
   "cell_type": "markdown",
   "metadata": {},
   "source": [
    "Agora que exploramos a herança como uma opção e a achamos deficiente, podemos\n",
    "olhe para trás em nosso diagrama baseado em composição anterior, onde Contributor foi\n",
    "anexado diretamente ao LibraryItem. Com alguma reflexão, podemos ver que realmente\n",
    "só precisa adicionar mais um relacionamento a uma classe totalmente nova para identificar o tipo de\n",
    "contribuinte. Este é um passo importante no projeto orientado a objetos. Agora estamos adicionando um\n",
    "classe para o projeto que se destina a suportar os outros objetos, em vez de modelagem\n",
    "qualquer parte dos requisitos iniciais. Estamos refatorando o design para facilitar a\n",
    "objetos no sistema, ao invés de objetos na vida real. A refatoração é um processo essencial\n",
    "na manutenção de um programa ou projeto. O objetivo da refatoração é melhorar a\n",
    "design movendo o código, removendo código duplicado ou relacionamentos complexos em\n",
    "a favor de designs mais simples e elegantes."
   ]
  },
  {
   "attachments": {},
   "cell_type": "markdown",
   "metadata": {},
   "source": [
    "Esta nova classe é composta por um Contributor e um atributo extra identificando\n",
    "o tipo de contribuição que a pessoa fez para o LibraryItem fornecido. pode\n",
    "haver muitas dessas contribuições para um determinado LibraryItem, e um contribuidor pode\n",
    "contribuir da mesma forma para itens diferentes. O diagrama comunica isso\n",
    "desenhe muito bem:"
   ]
  },
  {
   "attachments": {},
   "cell_type": "markdown",
   "metadata": {},
   "source": [
    "Subject\n",
    "+Contributors\n",
    "+ISBN\n",
    "+Title\n",
    "+Subject\n",
    "+DDS number\n",
    "Catalog\n",
    "Book\n",
    "CD\n",
    "DVD\n",
    "Magazine\n",
    "Contributor\n",
    "ContributorWithType"
   ]
  },
  {
   "attachments": {},
   "cell_type": "markdown",
   "metadata": {},
   "source": [
    "A princípio, esse relacionamento de composição parece menos natural do que o relacionamento baseado em herança\n",
    "relacionamentos. No entanto, tem a vantagem de nos permitir adicionar novos tipos de\n",
    "contribuições sem adicionar uma nova classe ao projeto. Herança é mais útil\n",
    "quando as subclasses possuem algum tipo de especialização. A especialização está criando\n",
    "ou alterar atributos ou comportamentos na subclasse para torná-la diferente\n",
    "da classe pai. Parece bobo criar um monte de classes vazias apenas para\n",
    "identificando diferentes tipos de objetos (esta atitude é menos prevalente entre Java e\n",
    "outros programadores \"tudo é um objeto\", mas é comum entre os mais práticos\n",
    "designers Python). Se olharmos para a versão de herança do diagrama, podemos ver um\n",
    "monte de subclasses que na verdade não fazem nada:"
   ]
  },
  {
   "attachments": {},
   "cell_type": "markdown",
   "metadata": {},
   "source": [
    "LibraryItem\n",
    "Author\n",
    "Contributor\n",
    "Actor\n",
    "Director\n",
    "Artist"
   ]
  },
  {
   "attachments": {},
   "cell_type": "markdown",
   "metadata": {},
   "source": [
    "Às vezes é importante reconhecer quando não usar princípios orientados a objetos.\n",
    "Este exemplo de quando não usar herança é um bom lembrete de que os objetos são apenas\n",
    "ferramentas e não regras."
   ]
  },
  {
   "attachments": {},
   "cell_type": "markdown",
   "metadata": {},
   "source": [
    "#### Exercícios"
   ]
  },
  {
   "cell_type": "markdown",
   "metadata": {},
   "source": []
  },
  {
   "cell_type": "code",
   "execution_count": 2,
   "metadata": {},
   "outputs": [
    {
     "name": "stdout",
     "output_type": "stream",
     "text": [
      "Author: Caique Miranda\n",
      "\n",
      "Github username: caiquemiranda\n",
      "\n"
     ]
    }
   ],
   "source": [
    "%reload_ext watermark\n",
    "%watermark -a \"Caique Miranda\" -gu \"caiquemiranda\" -iv"
   ]
  },
  {
   "attachments": {},
   "cell_type": "markdown",
   "metadata": {},
   "source": [
    "### End."
   ]
  }
 ],
 "metadata": {
  "kernelspec": {
   "display_name": "Python 3",
   "language": "python",
   "name": "python3"
  },
  "language_info": {
   "codemirror_mode": {
    "name": "ipython",
    "version": 3
   },
   "file_extension": ".py",
   "mimetype": "text/x-python",
   "name": "python",
   "nbconvert_exporter": "python",
   "pygments_lexer": "ipython3",
   "version": "3.10.5"
  },
  "orig_nbformat": 4
 },
 "nbformat": 4,
 "nbformat_minor": 2
}
