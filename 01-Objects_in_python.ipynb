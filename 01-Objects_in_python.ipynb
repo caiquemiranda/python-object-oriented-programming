{
 "cells": [
  {
   "cell_type": "code",
   "execution_count": 1,
   "metadata": {},
   "outputs": [
    {
     "name": "stdout",
     "output_type": "stream",
     "text": [
      "Versão de Python Neste Jupyter Notebook: 3.10.5\n"
     ]
    }
   ],
   "source": [
    "# Versão da Linguagem Python\n",
    "from platform import python_version\n",
    "print('Versão de Python Neste Jupyter Notebook:', python_version())"
   ]
  },
  {
   "attachments": {},
   "cell_type": "markdown",
   "metadata": {},
   "source": [
    "### Object-oriented Design"
   ]
  },
  {
   "attachments": {},
   "cell_type": "markdown",
   "metadata": {},
   "source": [
    "In software development, design is often considered as the step done before programming. This isn't true; in reality, analysis, programming, and design tend to overlap, combine, and interweave. In this chapter, we will cover the following topics:"
   ]
  },
  {
   "attachments": {},
   "cell_type": "markdown",
   "metadata": {},
   "source": [
    "•\n",
    "What object-oriented means\n",
    "•\n",
    "The difference between object-oriented design and object-oriented programming\n",
    "•\n",
    "The basic principles of an object-oriented design\n",
    "•\n",
    "Basic Unified Modeling Language (UML) and when it isn't evil"
   ]
  },
  {
   "attachments": {},
   "cell_type": "markdown",
   "metadata": {},
   "source": [
    "#### Introducing object-oriented"
   ]
  },
  {
   "attachments": {},
   "cell_type": "markdown",
   "metadata": {},
   "source": [
    "Everyone knows what an object is—a tangible thing that we can sense, feel,\n",
    "and manipulate. The earliest objects we interact with are typically baby toys. Wooden blocks, plastic shapes, and over-sized puzzle pieces are common first objects. Babies learn quickly that certain objects do certain things: bells ring,\n",
    "buttons press, and levers pull."
   ]
  },
  {
   "attachments": {},
   "cell_type": "markdown",
   "metadata": {},
   "source": [
    "The definition of an object in software development is not terribly different. Software objects are not typically tangible things that you can pick up, sense, or feel, but they are models of something that can do certain things and have certain things done to them. Formally, an object is a collection of data and associated behaviors."
   ]
  },
  {
   "attachments": {},
   "cell_type": "markdown",
   "metadata": {},
   "source": [
    "So, knowing what an object is, what does it mean to be object-oriented? Oriented simply means directed toward. So object-oriented means functionally directed towards modeling objects. This is one of the many techniques used for modeling complex systems by describing a collection of interacting objects via their data and behavior."
   ]
  },
  {
   "attachments": {},
   "cell_type": "markdown",
   "metadata": {},
   "source": [
    "If you've read any hype, you've probably come across the terms object-oriented\n",
    "analysis, object-oriented design, object-oriented analysis and design, and objectoriented\n",
    "programming. These are all highly related concepts under the general\n",
    "object-oriented umbrella."
   ]
  },
  {
   "attachments": {},
   "cell_type": "markdown",
   "metadata": {},
   "source": [
    "In fact, analysis, design, and programming are all stages of software development.\n",
    "Calling them object-oriented simply specifies what style of software development\n",
    "is being pursued."
   ]
  },
  {
   "attachments": {},
   "cell_type": "markdown",
   "metadata": {},
   "source": [
    "Object-oriented analysis (OOA) is the process of looking at a problem, system, or\n",
    "task (that somebody wants to turn into an application) and identifying the objects\n",
    "and interactions between those objects. The analysis stage is all about what needs\n",
    "to be done."
   ]
  },
  {
   "attachments": {},
   "cell_type": "markdown",
   "metadata": {},
   "source": [
    "The output of the analysis stage is a set of requirements. If we were to complete the\n",
    "analysis stage in one step, we would have turned a task, such as, I need a website,\n",
    "into a set of requirements. For example:"
   ]
  },
  {
   "attachments": {},
   "cell_type": "markdown",
   "metadata": {},
   "source": [
    "Website visitors need to be able to (italic represents actions, bold represents objects):\n",
    "• review our history\n",
    "• apply for jobs\n",
    "• browse, compare, and order products"
   ]
  },
  {
   "attachments": {},
   "cell_type": "markdown",
   "metadata": {},
   "source": [
    "In some ways, analysis is a misnomer. The baby we discussed earlier doesn't\n",
    "analyze the blocks and puzzle pieces. Rather, it will explore its environment,\n",
    "manipulate shapes, and see where they might fit. A better turn of phrase might\n",
    "be object-oriented exploration. In software development, the initial stages\n",
    "of analysis include interviewing customers, studying their processes, and\n",
    "eliminating possibilities."
   ]
  },
  {
   "attachments": {},
   "cell_type": "markdown",
   "metadata": {},
   "source": [
    "Object-oriented design (OOD) is the process of converting such requirements into\n",
    "an implementation specification. The designer must name the objects, define the\n",
    "behaviors, and formally specify which objects can activate specific behaviors on\n",
    "other objects. The design stage is all about how things should be done."
   ]
  },
  {
   "attachments": {},
   "cell_type": "markdown",
   "metadata": {},
   "source": [
    "The output of the design stage is an implementation specification. If we were\n",
    "to complete the design stage in a single step, we would have turned the requirements\n",
    "defined during object-oriented analysis into a set of classes and interfaces that could\n",
    "be implemented in (ideally) any object-oriented programming language."
   ]
  },
  {
   "attachments": {},
   "cell_type": "markdown",
   "metadata": {},
   "source": [
    "Object-oriented programming (OOP) is the process of converting this perfectly\n",
    "defined design into a working program that does exactly what the CEO\n",
    "originally requested."
   ]
  },
  {
   "attachments": {},
   "cell_type": "markdown",
   "metadata": {},
   "source": [
    "Yeah, right! It would be lovely if the world met this ideal and we could follow these\n",
    "stages one by one, in perfect order, like all the old textbooks told us to. As usual, the\n",
    "real world is much murkier. No matter how hard we try to separate these stages,\n",
    "we'll always find things that need further analysis while we're designing. When\n",
    "we're programming, we find features that need clarification in the design."
   ]
  },
  {
   "attachments": {},
   "cell_type": "markdown",
   "metadata": {},
   "source": [
    "Most twenty-first century development happens in an iterative development\n",
    "model. In iterative development, a small part of the task is modeled, designed,\n",
    "and programmed, then the program is reviewed and expanded to improve each\n",
    "feature and include new features in a series of short development cycles."
   ]
  },
  {
   "attachments": {},
   "cell_type": "markdown",
   "metadata": {},
   "source": [
    "The rest of this book is about object-oriented programming, but in this chapter,\n",
    "we will cover the basic object-oriented principles in the context of design. This\n",
    "allows us to understand these (rather simple) concepts without having to argue\n",
    "with software syntax or Python interpreters."
   ]
  },
  {
   "attachments": {},
   "cell_type": "markdown",
   "metadata": {},
   "source": [
    "### Objects in Python"
   ]
  },
  {
   "attachments": {},
   "cell_type": "markdown",
   "metadata": {},
   "source": [
    "#### Creating Python classes"
   ]
  },
  {
   "attachments": {},
   "cell_type": "markdown",
   "metadata": {},
   "source": [
    "#### Adding attributes"
   ]
  },
  {
   "attachments": {},
   "cell_type": "markdown",
   "metadata": {},
   "source": [
    "#### Making it do something"
   ]
  },
  {
   "attachments": {},
   "cell_type": "markdown",
   "metadata": {},
   "source": [
    "#### Talking to yourself"
   ]
  },
  {
   "attachments": {},
   "cell_type": "markdown",
   "metadata": {},
   "source": [
    "#### More arguments"
   ]
  },
  {
   "attachments": {},
   "cell_type": "markdown",
   "metadata": {},
   "source": [
    "#### Initializing the object"
   ]
  },
  {
   "attachments": {},
   "cell_type": "markdown",
   "metadata": {},
   "source": [
    "#### Explaining yourself"
   ]
  },
  {
   "attachments": {},
   "cell_type": "markdown",
   "metadata": {},
   "source": [
    "#### Modules and packages"
   ]
  },
  {
   "attachments": {},
   "cell_type": "markdown",
   "metadata": {},
   "source": [
    "#### Organizing the modules"
   ]
  },
  {
   "attachments": {},
   "cell_type": "markdown",
   "metadata": {},
   "source": [
    "##### Absolute imports"
   ]
  },
  {
   "attachments": {},
   "cell_type": "markdown",
   "metadata": {},
   "source": [
    "##### Relative imports"
   ]
  },
  {
   "attachments": {},
   "cell_type": "markdown",
   "metadata": {},
   "source": [
    "#### Organizing module contents"
   ]
  },
  {
   "attachments": {},
   "cell_type": "markdown",
   "metadata": {},
   "source": [
    "#### Who can access my data?"
   ]
  },
  {
   "attachments": {},
   "cell_type": "markdown",
   "metadata": {},
   "source": [
    "#### Third-party libraries"
   ]
  },
  {
   "attachments": {},
   "cell_type": "markdown",
   "metadata": {},
   "source": [
    "#### Case study"
   ]
  },
  {
   "cell_type": "code",
   "execution_count": 2,
   "metadata": {},
   "outputs": [
    {
     "name": "stdout",
     "output_type": "stream",
     "text": [
      "Author: Caique Miranda\n",
      "\n",
      "Github username: caiquemiranda\n",
      "\n"
     ]
    }
   ],
   "source": [
    "%reload_ext watermark\n",
    "%watermark -a \"Caique Miranda\" -gu \"caiquemiranda\" -iv"
   ]
  },
  {
   "attachments": {},
   "cell_type": "markdown",
   "metadata": {},
   "source": [
    "### End."
   ]
  }
 ],
 "metadata": {
  "kernelspec": {
   "display_name": "Python 3",
   "language": "python",
   "name": "python3"
  },
  "language_info": {
   "codemirror_mode": {
    "name": "ipython",
    "version": 3
   },
   "file_extension": ".py",
   "mimetype": "text/x-python",
   "name": "python",
   "nbconvert_exporter": "python",
   "pygments_lexer": "ipython3",
   "version": "3.10.5"
  },
  "orig_nbformat": 4
 },
 "nbformat": 4,
 "nbformat_minor": 2
}
